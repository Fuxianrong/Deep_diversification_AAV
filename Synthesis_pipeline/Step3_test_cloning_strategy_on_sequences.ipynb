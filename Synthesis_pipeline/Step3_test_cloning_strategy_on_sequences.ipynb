{
 "cells": [
  {
   "cell_type": "code",
   "execution_count": null,
   "metadata": {},
   "outputs": [],
   "source": [
    "path_to_synthesis_files='../Data/data_for_synthesis_pipeline/'"
   ]
  },
  {
   "cell_type": "code",
   "execution_count": 1,
   "metadata": {},
   "outputs": [],
   "source": [
    "import numpy as np \n",
    "import re\n",
    "\n",
    "from Bio import SeqIO \n",
    "from Bio.Data import CodonTable\n",
    "from Bio.Restriction import BsaI, BbsI, KpnI,BsmBI, ScaI , EcoRV,BsrBI,HindIII, XbaI\n",
    "from Bio.Seq import Seq \n",
    "import pandas as pd\n",
    "from pydna import *\n",
    "from pydna.dseq import Dseq\n",
    "from pydna.dseqrecord import Dseqrecord\n",
    "from pydna.genbank import Genbank\n",
    "from pydna.amplify import pcr, Anneal \n",
    "from pydna.parsers import parse_primers \n",
    "from pydna.readers import read\n",
    "from pydna.amplify import pcr"
   ]
  },
  {
   "cell_type": "code",
   "execution_count": 2,
   "metadata": {},
   "outputs": [],
   "source": [
    "ref_aa_seq=\"MAADGYLPDWLEDTLSEGIRQWWKLKPGPPPPKPAERHKDDSRGLVLPGYKYLGPFNGLDKGEPVNEADAAALEHDKAYDRQLDSGDNPYLKYNHADAEFQERLKEDTSFGGNLGRAVFQAKKRVLEPLGLVEEPVKTAPGKKRPVEHSPVEPDSSSGTGKAGQQPARKRLNFGQTGDADSVPDPQPLGQPPAAPSGLGTNTMATGSGAPMADNNEGADGVGNSSGNWHCDSTWMGDRVITTSTRTWALPTYNNHLYKQISSQSGASNDNHYFGYSTPWGYFDFNRFHCHFSPRDWQRLINNNWGFRPKRLNFKLFNIQVKEVTQNDGTTTIANNLTSTVQVFTDSEYQLPYVLGSAHQGCLPPFPADVFMVPQYGYLTLNNGSQAVGRSSFYCLEYFPSQMLRTGNNFTFSYTFEDVPFHSSYAHSQSLDRLMNPLIDQYLYYLSRTNTPSGTTTQSRLQFSQAGASDIRDQSRNWLPGPCYRQQRVSKTSADNNNSEYSWTGATKYHLNGRDSLVNPGPAMASHKDDEEKFFPQSGVLIFGKQGSEKTNVDIEKVMITDEEEIRTTNPVATEQYGSVSTNLQRGNRQAATADVNTQGVLPGMVWQDRDVYLQGPIWAKIPHTDGHFHPSPLMGGFGLKHPPPQILIKNTPVPANPSTTFSAAKFASFITQYSTGQVSVEIEWELQKENSKRWNPEIQYTSNYNKSVNVDFTVDTNGVYSEPRPIGTRYLTRNL\""
   ]
  },
  {
   "cell_type": "code",
   "execution_count": 3,
   "metadata": {},
   "outputs": [],
   "source": [
    "wt_seq=\"atggctgccgatggttatcttccagattggctcgaggacactctctctgaaggaataagacagtggtggaagctcaaacctggcccaccaccaccaaagcccgcagagcggcataaggacgacagcaggggtcttgtgcttcctgggtacaagtacctcggacccttcaacggactcgacaagggagagccggtcaacgaggcagacgccgcggccctcgagcacgacaaagcctacgaccggcagctcgacagcggagacaacccgtacctcaagtacaaccacgccgacgcggagtttcaggagcgccttaaagaagatacgtcttttgggggcaacctcggacgagcagtcttccaggcgaaaaagagggttcttgaacctctgggcctggttgaggaacctgttaagacggctccgggaaaaaagaggccggtagagcactctcctgtggagccagactcctcctcgggaaccggaaaggcgggccagcagcctgcaagaaaaagattgaattttggtcagactggagacgcagactcagtacctgacccccagcctctcggacagccaccagcagccccctctggtctgggaactaatacgatggctacaggcagtggcgcaccaatggcagacaataacgagggcgccgacggagtgggtaattcctcgggaaattggcattgcgattccacatggatgggcgacagagtcatcaccaccagcacccgaacctgggccctgcccacctacaacaaccacctctacaaacaaatttccagccaatcaggagcctcgaacgacaatcactactttggctacagcaccccttgggggtattttgacttcaacagattccactgccacttttcaccacgtgactggcaaagactcatcaacaacaactggggattccgacccaagagactcaacttcaagctctttaacattcaagtcaaagaggtcacgcagaatgacggtacgacgacgattgccaataaccttaccagcacggttcaggtgtttactgactcggagtaccagctcccgtacgtcctcggctcggcgcatcaaggatgcctcccgccgttcccagcagacgtcttcatggtgccacagtatggatacctcaccctgaacaacgggagtcaggcagtaggacgctcttcattttactgcctggagtactttccttctcagatgctgcgtaccggaaacaactttaccttcagctacacttttgaggacgttcctttccacagcagctacgctcacagccagagtctggaccgtctcatgaatcctctcatcgaccagtacctgtattacttgagcagaacaaacactccaagtggaaccaccacgcagtcaaggcttcagttttctcaggccggagcgagtgacattcgggaccagtctaggaactggcttcctggaccctgttaccgccagcagcgagtatcaaagacatctgcggataacaacaacagtgaatactcgtggactggagctaccaagtaccacctcaatggcagagactctctggtgaatccgggcccggccatggcaagccacaaggacgatgaagaaaagttttttcctcagagcggggttctcatctttgggaagcaaggctcagagaaaacaaatgtggacattgaaaaggtcatgatTACAGACGAAGAGGAAATCAGGACAACCAATCCCGTGGCTACGGAGCAGTATGGTTCTGTATCTACCAACCTCCAGAGAGGCAACAGAcaagcagctaccgcagatgtcaacacacaaggcgttcttccaggcatggtctggcaggacagagatgtgtaccttcaggggcccatctgggcaaagattccacacacggacggacattttcacccctctcccctcatgggtggattcggacttaaacaccctcctccacagattctcatcaagaacaccccggtacctgcgaatccttcgaccaccttcagtgcggcaaagtttgcttccttcatcacacagtactccacgggacaggtcagcgtggagatcgagtgggagctgcagaaggaaaacagcaaacgctggaatcccgaaattcagtacacttccaactacaacaagtctgttaatgtggactttactgtggacactaatggcgtgtattcagagcctcgccccattggcaccagatacctgactcgtaatctgtaaactagtataacttcgtataGCATACATtatacgaagttatGGATCCCCTCAGCGGGTCACGCGTAGGACGTCTCTGTACAGCGCGATATAACCGTAGGTAC\""
   ]
  },
  {
   "cell_type": "code",
   "execution_count": 4,
   "metadata": {},
   "outputs": [],
   "source": [
    "BsaI_5 = Dseq(str(Seq(BsaI.site).reverse_complement()))\n",
    "BsaI_3 = Dseq(BsaI.site)\n",
    "BbsI_5 = Dseq(str(Seq(BbsI.site).reverse_complement()))\n",
    "BbsI_3 = Dseq(BbsI.site)\n",
    "\n",
    "Barcode_OH=str(BsrBI.site)[1:5]\n",
    "Barcode_OH_rev=str(Seq(BsrBI.site).reverse_complement())[1:5]\n",
    "\n",
    "\n",
    "### Lower case a is extra base needed to align BsaI sites for cloning \n",
    "Vec1_F = read(\">p1\\ntt{BsaI_3}a{Barcode_oh}AGAGACGGTGTGGCTGCGGAAC\".format(BsaI_3=BsaI.site,Barcode_oh=Barcode_OH), ds=False)\n",
    "Vec2_R = read(\">p2\\n{BsaI_3}a{Barcode_oh}AGAGACGTCCTACGCGTGACCC\".format(BsaI_3=BsaI.site,Barcode_oh=Barcode_OH_rev),ds=False)\n",
    "\n",
    "Vec1_R=Dseqrecord(\"aaGGTCTCCTGTAATCATGACCTTTTCAATGTCCACATTTG\")\n",
    "Vec2_F=Dseqrecord(\"ttGGTCTCacaagcagctaccgcagatgtca\")"
   ]
  },
  {
   "cell_type": "code",
   "execution_count": 5,
   "metadata": {},
   "outputs": [
    {
     "name": "stdout",
     "output_type": "stream",
     "text": [
      "ttGGTCTCaCGCTAGAGACGGTGTGGCTGCGGAAC\n",
      "aaGGTCTCCTGTAATCATGACCTTTTCAATGTCCACATTTG\n"
     ]
    }
   ],
   "source": [
    "print(Vec1_F.seq)\n",
    "print(Vec1_R.seq)"
   ]
  },
  {
   "cell_type": "code",
   "execution_count": 6,
   "metadata": {},
   "outputs": [
    {
     "name": "stdout",
     "output_type": "stream",
     "text": [
      "ttGGTCTCacaagcagctaccgcagatgtca\n",
      "GGTCTCaAGCGAGAGACGTCCTACGCGTGACCC\n"
     ]
    }
   ],
   "source": [
    "print(Vec2_F.seq)\n",
    "print(Vec2_R.seq)"
   ]
  },
  {
   "cell_type": "code",
   "execution_count": 7,
   "metadata": {},
   "outputs": [],
   "source": [
    "pAAV2=Dseqrecord(\"gcttttagaaaaactcatcgagcatcaaatgaaactgcaatttattcatatcaggattatcaataccatatttttgaaaaagccgtttctgtaatgaaggagaaaactcaccgaggcagttccataggatggcaagatcctggtatcggtctgcgattccgactcgtccaacatcaatacaacctattaatttcccctcgtcaaaaataaggttatcaagtgagaaatcaccatgagtgacgactgaatccggtgagaatggcaaaagtttatgcatttctttccagacttgttcaacaggccagccattacgctcgtcatcaaaatcactcgcatcaaccaaaccgttattcattcgtgattgcgcctgagcgaggcgaaatacgcgatcgctgttaaaaggacaattacaaacaggaatcgagtgcaaccggcgcaggaacactgccagcgcatcaacaatattttcacctgaatcaggatattcttctaatacctggaacgctgtttttccggggatcgcagtggtgagtaaccatgcatcatcaggagtacggataaaatgcttgatggtcggaagtggcataaattccgtcagccagtttagtctgaccatctcatctgtaacatcattggcaacgctacctttgccatgtttcagaaacaactctggcgcatcgggcttcccatacaagcgatagattgtcgcacctgattgcccgacattatcgcgagcccatttatacccatataaatcagcatccatgttggaatttaatcgcggcctcgacgtttcccgttgaatatggctcatattcttcctttttcaatattattgaagcatttatcagggttattgtctcatgagcggatacatatttgaatgtatttagaaaaataaacaaataggggtcagtgttacaaccaattaaccaattctgaacattatcgcgagcccatttatacctgaatatggctcataacaccccttgtttgcctggcggcagtagcgcggtggtcccacctgaccccatgccgaactcagaagtgaaacgccgtagcgccgatggtagtgtggggactccccatgcgagagtagggaactgccaggcatcaaataaaacgaaaggctcagtcgaaagactgggcctttcgcccgggctaattagggggtgtcgcccttattcgactctatagggaagttcctattctctagaaagtataggaacttctgaaggggggctgctagcaagcttcgatcaactacgcagacaggtaccaaaacaaatgttctcgtcacgtgggcatgaatctgatgctgtttccctgcagacaatgcgagagaatgaatcagaattcaaatatctgcttcactcacggacagaaagactgtttagagtgctttcccgtgtcagaatctcaacccgtttctgtcgtcaaaaaggcgtatcagaaactgtgctacattcatcatatcatgggaaaggtgccagacgcttgcactgcctgcgatctggtcaatgtggatttggatgactgcatctttgaacaataaatgatttaaatcaggtatggctgccgatggttatcttccagattggctcgaggacactctctctgaaggaataagacagtggtggaagctcaaacctggcccaccaccaccaaagcccgcagagcggcataaggacgacagcaggggtcttgtgcttcctgggtacaagtacctcggacccttcaacggactcgacaagggagagccggtcaacgaggcagacgccgcggccctcgagcacgacaaagcctacgaccggcagctcgacagcggagacaacccgtacctcaagtacaaccacgccgacgcggagtttcaggagcgccttaaagaagatacgtcttttgggggcaacctcggacgagcagtcttccaggcgaaaaagagggttcttgaacctctgggcctggttgaggaacctgttaagacggctccgggaaaaaagaggccggtagagcactctcctgtggagccagactcctcctcgggaaccggaaaggcgggccagcagcctgcaagaaaaagattgaattttggtcagactggagacgcagactcagtacctgacccccagcctctcggacagccaccagcagccccctctggtctgggaactaatacgatggctacaggcagtggcgcaccaatggcagacaataacgagggcgccgacggagtgggtaattcctcgggaaattggcattgcgattccacatggatgggcgacagagtcatcaccaccagcacccgaacctgggccctgcccacctacaacaaccacctctacaaacaaatttccagccaatcaggagcctcgaacgacaatcactactttggctacagcaccccttgggggtattttgacttcaacagattccactgccacttttcaccacgtgactggcaaagactcatcaacaacaactggggattccgacccaagagactcaacttcaagctctttaacattcaagtcaaagaggtcacgcagaatgacggtacgacgacgattgccaataaccttaccagcacggttcaggtgtttactgactcggagtaccagctcccgtacgtcctcggctcggcgcatcaaggatgcctcccgccgttcccagcagacgtcttcatggtgccacagtatggatacctcaccctgaacaacgggagtcaggcagtaggacgctcttcattttactgcctggagtactttccttctcagatgctgcgtaccggaaacaactttaccttcagctacacttttgaggacgttcctttccacagcagctacgctcacagccagagtctggaccgtctcatgaatcctctcatcgaccagtacctgtattacttgagcagaacaaacactccaagtggaaccaccacgcagtcaaggcttcagttttctcaggccggagcgagtgacattcgggaccagtctaggaactggcttcctggaccctgttaccgccagcagcgagtatcaaagacatctgcggataacaacaacagtgaatactcgtggactggagctaccaagtaccacctcaatggcagagactctctggtgaatccgggcccggccatggcaagccacaaggacgatgaagaaaagttttttcctcagagcggggttctcatctttgggaagcaaggctcagagaaaacaaatgtggacattgaaaaggtcatgattacagacgaagaggaaatcaggacaaccaatcccgtggctacggagcagtatggttctgtatctaccaacctccagagaggcaacagacaagcagctaccgcagatgtcaacacacaaggcgttcttccaggcatggtctggcaggacagagatgtgtaccttcaggggcccatctgggcaaagattccacacacggacggacattttcacccctctcccctcatgggtggattcggacttaaacaccctcctccacagattctcatcaagaacaccccggtacctgcgaatccttcgaccaccttcagtgcggcaaagtttgcttccttcatcacacagtactccacgggacaggtcagcgtggagatcgagtgggagctgcagaaggaaaacagcaaacgctggaatcccgaaattcagtacacttccaactacaacaagtctgttaatgtggactttactgtggacactaatggcgtgtattcagagcctcgccccattggcaccagatacctgactcgtaatctgtaaactagtataacttcgtataGCATACATtatacgaagttatGGATCCCCTCAGCGGGTCACGCGTAGGANNNNNNNNNNNNNNNNNNNNGTGTGGCTGCGGAACGTCGACGAGCTCATCTAGATAACTGATCATAATCAGCCATACCACATTTGTAGAGGTTTTACTTGCTTTAAAAAACCTCCCACACCTCCCCCTGAACCTGAAACATAAAATGAATGCAATTGTTGTTGTTAACTTGTTTATTGCAGCTTATAATGGTTACAAATAAAGCAATAGCATCACAAATTTCACAAATAAAGCATTTTTTTCACTGCATTCTAGTTGTGGTTTTCCAAACTCATCAATGTATCTTACCTGCAGGataacttcgtataGCATACATtatacgaagttatgcatgcgcgtcagcagaatatgtgatacaggatatattccgcttcctcgctcactgactcgctacgctcggtcgttcgactgcggcgagcggaaatggcttacgaacggggcggagatttcctggaagatgccaggaagatacttaacagggaagtgagagggccgcggcaaagccgtttttccataggctccgcccccctgacaagcatcacgaaatctgacgctcaaatcagtggtggcgaaacccgacaggactataaagataccaggcgtttccccctggcggctccctcgtgcgctctcctgttcctgcctttcggtttaccggtgtcattccgctgttatggccgcgtttgtctcattccacgcctgacactcagttccgggtaggcagttcgctccaagctggactgtatgcacgaaccccccgttcagtccgaccgctgcgccttatccggtaactatcgtcttgagtccaacccggaaagacatgcaaaagcaccactggcagcagccactggtaattgatttagaggagttagtcttgaagtcatgcgccggttaaggctaaactgaaaggacaagttttggtgactgcgctcctccaagccagttacctcggttcaaagagttggtagctcagagaaccttcgaaaaaccgccctgcaaggcggttttttcgttttcagagcaagagattacgcgcagaccaaaacgatctcaagaagatcatcttattaa\")\\\n",
    ".looped()"
   ]
  },
  {
   "cell_type": "code",
   "execution_count": 8,
   "metadata": {},
   "outputs": [],
   "source": [
    "tail_insert=Dseqrecord(\"ggGGTCTCacaagcagctaccgcagatgtcaacacacaaggcgttcttccaggcatggtctggcaggacagagatgtgtaccttcaggggcccatctgggcaaagattccacacacggacggacattttcacccctctcccctcatgggtggattcggacttaaacaccctcctccacagattctcatcaagaacaccccggtacctgcgaatccttcgaccaccttcagtgcggcaaagtttgcttccttcatcacacagtactccacgggacaggtcagcgtggagatcgagtgggagctgcagaaggaaaacagcaaacgctggaatcccgaaattcagtacacttccaactacaacaagtctgttaatgtggactttactgtggacactaatggcgtgtattcagagcctcgccccattggcaccagatacctgactcgtaatctgtaaactagtataacttcgtataGCATACATtatacgaagttatGGATCCCCTCAGCGGGTCACGCGTAGGACGTCTCTGTACtGAGACCTTT\")"
   ]
  },
  {
   "cell_type": "code",
   "execution_count": 9,
   "metadata": {},
   "outputs": [],
   "source": [
    "fwd_file = f'{path_to_synthesis_files}skpp15-forward.fasta'\n",
    "rev_file = f'{path_to_synthesis_files}skpp15-reverse.fasta'\n",
    "\n",
    "hF = open(fwd_file, \"r\")\n",
    "hR = open(rev_file, \"r\")\n",
    "primersF = list(SeqIO.parse(hF, \"fasta\"))\n",
    "primersR = list(SeqIO.parse(hR, \"fasta\"))\n",
    "hF.close()\n",
    "hR.close()"
   ]
  },
  {
   "cell_type": "code",
   "execution_count": 10,
   "metadata": {},
   "outputs": [],
   "source": [
    "good_primersF=[]\n",
    "good_primersR=[]\n",
    "for f,r in zip(primersF,primersR):\n",
    "   # print (f.seq,r.seq.reverse_complement())\n",
    "    seq_f=str(f.seq)\n",
    "    seq_r=str(r.seq.reverse_complement())\n",
    "   # if (check_re_sites(seq_f,re_sites)+check_re_sites(seq_r,re_sites))==0:        \n",
    "    good_primersF.append(f)\n",
    "    good_primersR.append(r)"
   ]
  },
  {
   "cell_type": "code",
   "execution_count": 11,
   "metadata": {},
   "outputs": [],
   "source": [
    "fwd_skpp_primer=good_primersF[0]\n",
    "rev_skpp_primer=good_primersR[0]"
   ]
  },
  {
   "cell_type": "code",
   "execution_count": 12,
   "metadata": {},
   "outputs": [],
   "source": [
    "PCR_vector=pcr(Vec1_F,Vec1_R,pAAV2).seq.cut(BsaI)[1]"
   ]
  },
  {
   "cell_type": "code",
   "execution_count": 13,
   "metadata": {},
   "outputs": [
    {
     "data": {
      "text/plain": [
       "Dseq(-4312)\n",
       "CGCTAGAG..tgat    \n",
       "    TCTC..actaatgt"
      ]
     },
     "execution_count": 13,
     "metadata": {},
     "output_type": "execute_result"
    }
   ],
   "source": [
    "PCR_vector"
   ]
  },
  {
   "cell_type": "code",
   "execution_count": 14,
   "metadata": {},
   "outputs": [
    {
     "name": "stdout",
     "output_type": "stream",
     "text": [
      "Test passed!\n"
     ]
    }
   ],
   "source": [
    "try:\n",
    "    PCR_vector.looped()\n",
    "    print(\"Problem: PCR vector loops onto itself!\")\n",
    "except:\n",
    "    print(\"Test passed!\")"
   ]
  },
  {
   "cell_type": "code",
   "execution_count": 15,
   "metadata": {},
   "outputs": [],
   "source": [
    "def step_1(fwd_primer,rev_primer,nt_seq,PCR_vector):\n",
    "    oligo=Dseqrecord(nt_seq)\n",
    "    cut_pieces=pcr(fwd_primer,rev_primer,oligo).seq.cut(BbsI)\n",
    "    assert len(cut_pieces)==3, \"BbsI fail\"\n",
    "    PCR_T21=cut_pieces[1]\n",
    "    step_1_out=PCR_vector+PCR_T21\n",
    "\n",
    "    looped=step_1_out.looped()\n",
    "    #cut with ecoRV assert 1 piece\n",
    "    #and with BsaI assert 3 pieces \n",
    "    assert len(looped.cut(EcoRV))==1, \"EcoRV fail\"\n",
    "    assert len(looped.cut(EcoRV)[0].cut(BsaI))==3, \"BsaI 1 fail\"\n",
    "\n",
    "    return looped\n",
    "    "
   ]
  },
  {
   "cell_type": "code",
   "execution_count": 16,
   "metadata": {},
   "outputs": [],
   "source": [
    "def step_2(T21_insert,step1_plasmid,vec_F,vec_R):\n",
    "    if type(T21_insert)==str:\n",
    "        insert=Dseqrecord(T21_insert)\n",
    "    else:\n",
    "        #print (\"assuming Dseq insert\")\n",
    "        insert=T21_insert\n",
    "    PCR_2=pcr(vec_F,vec_R,insert).cut(BsaI)\n",
    "    assert len(PCR_2)==3, \"BsaI step 2 fail\"\n",
    "    \n",
    "    PCR_insert=PCR_2[1]\n",
    "    open_plasmid=step1_plasmid.cut(BsaI)[0]\n",
    "    \n",
    "    full_product=Dseqrecord(open_plasmid)+PCR_insert\n",
    "    #return full_product\n",
    "    return full_product.looped()"
   ]
  },
  {
   "cell_type": "code",
   "execution_count": 17,
   "metadata": {},
   "outputs": [],
   "source": [
    "def test_cloning(nt_seq,fwd_skpp_primer,rev_skpp_primer):\n",
    "        try:\n",
    "            step1_plasmid=step_1(fwd_skpp_primer,rev_skpp_primer,nt_seq,PCR_vector)\n",
    "        except Exception as e:\n",
    "            full_sequence=None\n",
    "            print (e)\n",
    "            print (nt_seq)\n",
    "            print (\"Step 1 failed\")\n",
    "        try:    \n",
    "            full_sequence=step_2(tail_insert,step1_plasmid,Vec2_F,Vec2_R)\n",
    "        except Exception as e:\n",
    "            print (nt_seq)\n",
    "            print (e)\n",
    "            full_sequence=None\n",
    "            print (\"Step 2 failed\" )\n",
    "            \n",
    "        return full_sequence\n",
    "\n",
    "def run_df_assembly(df,fwd_skpp_primer,rev_skpp_primer):\n",
    "    count=0\n",
    "    failed=[]\n",
    "    for i, row in df.iterrows():\n",
    "       if count%5000==0:\n",
    "          print (count)\n",
    "        \n",
    "       count+=1\n",
    "       full_sequence=test_cloning(row.full_nt_seq,fwd_skpp_primer,rev_skpp_primer)\n",
    "       if full_sequence:\n",
    "           aa=translate_orf(str(full_sequence.seq),dna_len=2200)\n",
    "           try:\n",
    "               assert len(full_sequence.cut(HindIII))==2, \"incorrect HindIII digestion count\"\n",
    "               assert len(full_sequence.cut(XbaI))==2, \"incorrect XbaI digestion count\"\n",
    "               assert len(full_sequence.cut(BsmBI))==4, \"incorrect BsmBI digestion count\"\n",
    "               assert len(full_sequence.cut(BsrBI))==4, \"incorrect BsrBI digestion count\"\n",
    "               assert aa!=None, \"No ORF\"\n",
    "               assert len(aa)>=735, \"AA length not correct\"\n",
    "               if row.category==\"wild_type\":\n",
    "                    assert aa==ref_aa_seq,\"AA seq doesn't translate to wt \"\n",
    "\n",
    "           except Exception as e:\n",
    "                 print (e)\n",
    "                 failed.append((i,row.category, row.full_nt_seq,e))\n",
    "\n",
    "                    \n",
    "       else:\n",
    "            failed.append((i,row.category, row.full_nt_seq))\n",
    "    return failed\n",
    "        \n",
    "def translate_orf(full_plasmid, dna_len=2200):\n",
    "    plasmid = full_plasmid\n",
    "    pattern = re.compile(r'(?=(ATG(?:...)*?)(?=TAG|TGA|TAA))', re.I)\n",
    "    match = pattern.findall(plasmid)\n",
    "    matches = [x for x in match if len(x) > dna_len]\n",
    "    if matches:\n",
    "        aa_seq = str(Seq(matches[0]).translate())\n",
    "    else:\n",
    "        aa_seq = None\n",
    "    return aa_seq\n",
    "\n",
    "def test_barcode(barcode):\n",
    "    if barcode.startswith(\"C\") or barcode.endswith(\"C\"):\n",
    "        return False\n",
    "    return True    "
   ]
  },
  {
   "cell_type": "code",
   "execution_count": 18,
   "metadata": {},
   "outputs": [],
   "source": [
    "chip_df=pd.read_csv(f'{path_to_synthesis_files}chip_df.csv')"
   ]
  },
  {
   "cell_type": "code",
   "execution_count": 19,
   "metadata": {},
   "outputs": [
    {
     "data": {
      "text/plain": [
       "True"
      ]
     },
     "execution_count": 19,
     "metadata": {},
     "output_type": "execute_result"
    }
   ],
   "source": [
    "all(chip_df.barcode.apply(test_barcode))"
   ]
  },
  {
   "cell_type": "code",
   "execution_count": 20,
   "metadata": {},
   "outputs": [],
   "source": [
    "test_seq=chip_df[chip_df.category==\"wild_type\"].iloc[0]"
   ]
  },
  {
   "cell_type": "code",
   "execution_count": 21,
   "metadata": {},
   "outputs": [
    {
     "data": {
      "text/plain": [
       "'GTAATGCGGTCTGAGCCG'"
      ]
     },
     "execution_count": 21,
     "metadata": {},
     "output_type": "execute_result"
    }
   ],
   "source": [
    "test_seq.barcode"
   ]
  },
  {
   "cell_type": "code",
   "execution_count": 22,
   "metadata": {},
   "outputs": [],
   "source": [
    "step1_plasmid=step_1(fwd_skpp_primer,rev_skpp_primer,test_seq.full_nt_seq,PCR_vector)\n",
    "full_sequence=step_2(tail_insert,step1_plasmid,Vec2_F,Vec2_R)"
   ]
  },
  {
   "cell_type": "code",
   "execution_count": 23,
   "metadata": {},
   "outputs": [
    {
     "data": {
      "text/plain": [
       "Dseq(o4442)\n",
       "CGCT..GCCG\n",
       "GCGA..CGGC"
      ]
     },
     "execution_count": 23,
     "metadata": {},
     "output_type": "execute_result"
    }
   ],
   "source": [
    "step1_plasmid"
   ]
  },
  {
   "cell_type": "code",
   "execution_count": 24,
   "metadata": {},
   "outputs": [
    {
     "data": {
      "text/plain": [
       "Dseq(o4937)\n",
       "CGCT..CTCT\n",
       "GCGA..GAGA"
      ]
     },
     "execution_count": 24,
     "metadata": {},
     "output_type": "execute_result"
    }
   ],
   "source": [
    "full_sequence.seq"
   ]
  },
  {
   "cell_type": "code",
   "execution_count": 27,
   "metadata": {},
   "outputs": [],
   "source": [
    "## Print wt sequence to exactly match with Benchling file\n",
    "#str(full_sequence.seq)"
   ]
  },
  {
   "cell_type": "code",
   "execution_count": 29,
   "metadata": {},
   "outputs": [],
   "source": [
    "aa=translate_orf(str(full_sequence.seq),dna_len=2200)\n",
    "assert aa==ref_aa_seq"
   ]
  },
  {
   "cell_type": "code",
   "execution_count": 30,
   "metadata": {},
   "outputs": [
    {
     "data": {
      "text/plain": [
       "'GGGTCACGCGTAGGAGAAGACATTACAGACGAAGAGGAAATCAGGACAACCAATCCCGTGGCTACGGAGCAGTATGGTTCTGTATCTACCAACCTCCAGAGAGGCAACAGACAAGCGAGACCGATATCGGTCTCACGCTGTAATGCGGTCTGAGCCGCGCTAAGTCTTCGTGTGGCTGCGGAAC'"
      ]
     },
     "execution_count": 30,
     "metadata": {},
     "output_type": "execute_result"
    }
   ],
   "source": [
    "test_seq.full_nt_seq"
   ]
  },
  {
   "cell_type": "markdown",
   "metadata": {},
   "source": [
    "Cloning can fail, for instance because the designed variant's sequence may have annealing spots for the primers. We can tolerate to drop a few sequences for the cloning in such circumstances (172 fail in this case). "
   ]
  },
  {
   "cell_type": "code",
   "execution_count": 26,
   "metadata": {},
   "outputs": [
    {
     "name": "stdout",
     "output_type": "stream",
     "text": [
      "0\n",
      "PCR not specific! Template name 193 nt linear:\n",
      "Primer skpp15-1-F anneals forward at position 15\n",
      "Primer skpp15-1-R anneals forward at position 167\n",
      "\n",
      "Primer skpp15-1-R anneals reverse at position 178\n",
      "GGGTCACGCGTAGGAGAAGACATTACAGACGAACACGAAATCGCTACAACCAATCCCGTGGCTTACGAGCAGTGGGGTTCTGTATCTACCAACCTCCAGTCGGGAGGCGAGAACGACGACCAAGCGAGACCGATATCGGTCTCACGCTGTTGATTCCGCAGCCACACGCTAAGTCTTCGTGTGGCTGCGGAAC\n",
      "Step 1 failed\n",
      "GGGTCACGCGTAGGAGAAGACATTACAGACGAACACGAAATCGCTACAACCAATCCCGTGGCTTACGAGCAGTGGGGTTCTGTATCTACCAACCTCCAGTCGGGAGGCGAGAACGACGACCAAGCGAGACCGATATCGGTCTCACGCTGTTGATTCCGCAGCCACACGCTAAGTCTTCGTGTGGCTGCGGAAC\n",
      "local variable 'step1_plasmid' referenced before assignment\n",
      "Step 2 failed\n",
      "5000\n",
      "10000\n",
      "15000\n",
      "20000\n",
      "25000\n",
      "30000\n",
      "35000\n",
      "40000\n",
      "45000\n",
      "50000\n",
      "55000\n",
      "60000\n",
      "65000\n",
      "70000\n",
      "75000\n",
      "80000\n",
      "85000\n",
      "90000\n",
      "95000\n",
      "100000\n",
      "105000\n",
      "110000\n",
      "115000\n",
      "120000\n",
      "125000\n",
      "130000\n",
      "135000\n",
      "140000\n",
      "145000\n",
      "150000\n",
      "155000\n",
      "160000\n",
      "165000\n",
      "170000\n",
      "175000\n",
      "180000\n",
      "185000\n",
      "190000\n",
      "195000\n",
      "200000\n",
      "205000\n",
      "210000\n",
      "No ORF\n",
      "No ORF\n",
      "No ORF\n",
      "No ORF\n",
      "No ORF\n",
      "No ORF\n",
      "No ORF\n",
      "No ORF\n",
      "No ORF\n",
      "No ORF\n",
      "No ORF\n",
      "No ORF\n",
      "No ORF\n",
      "No ORF\n",
      "No ORF\n",
      "No ORF\n",
      "No ORF\n",
      "No ORF\n",
      "No ORF\n",
      "No ORF\n",
      "No ORF\n",
      "No ORF\n",
      "No ORF\n",
      "No ORF\n",
      "No ORF\n",
      "No ORF\n",
      "No ORF\n",
      "No ORF\n",
      "No ORF\n",
      "No ORF\n",
      "No ORF\n",
      "No ORF\n",
      "No ORF\n",
      "No ORF\n",
      "No ORF\n",
      "No ORF\n",
      "No ORF\n",
      "No ORF\n",
      "No ORF\n",
      "No ORF\n",
      "No ORF\n",
      "No ORF\n",
      "No ORF\n",
      "No ORF\n",
      "No ORF\n",
      "No ORF\n",
      "No ORF\n",
      "No ORF\n",
      "No ORF\n",
      "No ORF\n",
      "No ORF\n",
      "No ORF\n",
      "No ORF\n",
      "No ORF\n",
      "No ORF\n",
      "No ORF\n",
      "No ORF\n",
      "No ORF\n",
      "No ORF\n",
      "No ORF\n",
      "No ORF\n",
      "No ORF\n",
      "No ORF\n",
      "No ORF\n",
      "No ORF\n",
      "No ORF\n",
      "No ORF\n",
      "No ORF\n",
      "No ORF\n",
      "No ORF\n",
      "No ORF\n",
      "No ORF\n",
      "No ORF\n",
      "No ORF\n",
      "No ORF\n",
      "No ORF\n",
      "No ORF\n",
      "No ORF\n",
      "No ORF\n",
      "No ORF\n",
      "No ORF\n",
      "No ORF\n",
      "No ORF\n",
      "No ORF\n",
      "No ORF\n",
      "No ORF\n",
      "No ORF\n",
      "No ORF\n",
      "No ORF\n",
      "No ORF\n",
      "No ORF\n",
      "No ORF\n",
      "No ORF\n",
      "No ORF\n",
      "No ORF\n",
      "No ORF\n",
      "No ORF\n",
      "No ORF\n",
      "No ORF\n",
      "No ORF\n",
      "No ORF\n",
      "No ORF\n",
      "No ORF\n",
      "No ORF\n",
      "No ORF\n",
      "No ORF\n",
      "No ORF\n",
      "No ORF\n",
      "No ORF\n",
      "No ORF\n",
      "No ORF\n",
      "No ORF\n",
      "No ORF\n",
      "No ORF\n",
      "No ORF\n",
      "No ORF\n",
      "No ORF\n",
      "No ORF\n",
      "No ORF\n",
      "No ORF\n",
      "215000\n",
      "No ORF\n",
      "No ORF\n",
      "No ORF\n",
      "No ORF\n",
      "No ORF\n",
      "No ORF\n",
      "No ORF\n",
      "No ORF\n",
      "No ORF\n",
      "No ORF\n",
      "No ORF\n",
      "No ORF\n",
      "No ORF\n",
      "No ORF\n",
      "No ORF\n",
      "No ORF\n",
      "No ORF\n",
      "No ORF\n",
      "No ORF\n",
      "No ORF\n",
      "No ORF\n",
      "No ORF\n",
      "No ORF\n",
      "No ORF\n",
      "No ORF\n",
      "No ORF\n",
      "No ORF\n",
      "No ORF\n",
      "No ORF\n",
      "No ORF\n",
      "No ORF\n",
      "No ORF\n",
      "No ORF\n",
      "No ORF\n",
      "No ORF\n",
      "No ORF\n",
      "No ORF\n",
      "No ORF\n",
      "No ORF\n",
      "No ORF\n",
      "No ORF\n",
      "No ORF\n",
      "No ORF\n",
      "No ORF\n",
      "No ORF\n",
      "No ORF\n",
      "No ORF\n",
      "No ORF\n",
      "No ORF\n",
      "No ORF\n",
      "No ORF\n",
      "220000\n",
      "225000\n",
      "230000\n",
      "235000\n",
      "240000\n",
      "245000\n",
      "250000\n"
     ]
    }
   ],
   "source": [
    "#testing chip \n",
    "failed_cloning=run_df_assembly(chip_df,fwd_skpp_primer,rev_skpp_primer)"
   ]
  },
  {
   "cell_type": "code",
   "execution_count": 29,
   "metadata": {},
   "outputs": [
    {
     "data": {
      "text/plain": [
       "172"
      ]
     },
     "execution_count": 29,
     "metadata": {},
     "output_type": "execute_result"
    }
   ],
   "source": [
    "#How many sequences out of 244000 failed with this cloning strategy? \n",
    "len(failed_cloning)"
   ]
  }
 ],
 "metadata": {
  "kernelspec": {
   "display_name": "Python 3",
   "language": "python",
   "name": "python3"
  },
  "language_info": {
   "codemirror_mode": {
    "name": "ipython",
    "version": 3
   },
   "file_extension": ".py",
   "mimetype": "text/x-python",
   "name": "python",
   "nbconvert_exporter": "python",
   "pygments_lexer": "ipython3",
   "version": "3.6.6"
  }
 },
 "nbformat": 4,
 "nbformat_minor": 2
}
