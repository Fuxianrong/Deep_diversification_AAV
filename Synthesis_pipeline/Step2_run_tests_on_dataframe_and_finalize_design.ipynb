{
 "cells": [
  {
   "cell_type": "markdown",
   "metadata": {},
   "source": [
    "## Check integrity of designed dataframe and finalize"
   ]
  },
  {
   "cell_type": "code",
   "execution_count": 2,
   "metadata": {},
   "outputs": [],
   "source": [
    "import pandas as pd"
   ]
  },
  {
   "cell_type": "code",
   "execution_count": null,
   "metadata": {},
   "outputs": [],
   "source": [
    "path_to_synthesis_files='../Data/data_for_synthesis_pipeline/'"
   ]
  },
  {
   "cell_type": "code",
   "execution_count": 3,
   "metadata": {},
   "outputs": [],
   "source": [
    "chip1=pd.read_csv(f'{path_to_synthesis_files}chip_df.csv',index_col=0)"
   ]
  },
  {
   "cell_type": "code",
   "execution_count": 4,
   "metadata": {},
   "outputs": [
    {
     "data": {
      "text/plain": [
       "252250"
      ]
     },
     "execution_count": 4,
     "metadata": {},
     "output_type": "execute_result"
    }
   ],
   "source": [
    "len(chip1)"
   ]
  },
  {
   "cell_type": "code",
   "execution_count": 5,
   "metadata": {},
   "outputs": [
    {
     "data": {
      "text/html": [
       "<div>\n",
       "<style scoped>\n",
       "    .dataframe tbody tr th:only-of-type {\n",
       "        vertical-align: middle;\n",
       "    }\n",
       "\n",
       "    .dataframe tbody tr th {\n",
       "        vertical-align: top;\n",
       "    }\n",
       "\n",
       "    .dataframe thead th {\n",
       "        text-align: right;\n",
       "    }\n",
       "</style>\n",
       "<table border=\"1\" class=\"dataframe\">\n",
       "  <thead>\n",
       "    <tr style=\"text-align: right;\">\n",
       "      <th></th>\n",
       "      <th>category</th>\n",
       "      <th>control</th>\n",
       "      <th>rep</th>\n",
       "      <th>aa_seq</th>\n",
       "      <th>barcode</th>\n",
       "      <th>coding</th>\n",
       "      <th>full_nt_seq</th>\n",
       "    </tr>\n",
       "  </thead>\n",
       "  <tbody>\n",
       "    <tr>\n",
       "      <th>0</th>\n",
       "      <td>rnn_designed_plus_rand_train_walked</td>\n",
       "      <td>0</td>\n",
       "      <td>1</td>\n",
       "      <td>DEDEIRTTNPVATEQYGSVSTNLgGEGdNR</td>\n",
       "      <td>GTGTGTCCAGAATGCGGT</td>\n",
       "      <td>GACGAAGATGAAATCAGGACAACCAATCCCGTGGCTACGGAGCAGT...</td>\n",
       "      <td>GGGTCACGCGTAGGAGAAGACATTACAGACGAAGATGAAATCAGGA...</td>\n",
       "    </tr>\n",
       "    <tr>\n",
       "      <th>1</th>\n",
       "      <td>rnn_designed_plus_rand_train_walked</td>\n",
       "      <td>0</td>\n",
       "      <td>1</td>\n",
       "      <td>DEDEIRTTNPVATEQYGSVSTNLQDnGnNdR</td>\n",
       "      <td>GTCCGTTCTAATATCAGA</td>\n",
       "      <td>GACGAGGACGAAATCAGGACAACCAATCCCGTGGCTACGGAGCAGT...</td>\n",
       "      <td>GGGTCACGCGTAGGAGAAGACATTACAGACGAGGACGAAATCAGGA...</td>\n",
       "    </tr>\n",
       "    <tr>\n",
       "      <th>2</th>\n",
       "      <td>rnn_designed_plus_rand_train_walked</td>\n",
       "      <td>0</td>\n",
       "      <td>1</td>\n",
       "      <td>DEDEIRTTNPVATEQYGAVSTNLQGdGNdR</td>\n",
       "      <td>GCTAATCACACGTTGCAT</td>\n",
       "      <td>GACGAGGACGAAATCAGGACAACCAATCCCGTGGCTACGGAGCAGT...</td>\n",
       "      <td>GGGTCACGCGTAGGAGAAGACATTACAGACGAGGACGAAATCAGGA...</td>\n",
       "    </tr>\n",
       "    <tr>\n",
       "      <th>3</th>\n",
       "      <td>rnn_designed_plus_rand_train_walked</td>\n",
       "      <td>0</td>\n",
       "      <td>1</td>\n",
       "      <td>DEEEIATTNPVATEQYGSVSTNLQHdGDeR</td>\n",
       "      <td>GAAGGAACTGGAACTGTA</td>\n",
       "      <td>GACGAAGAGGAAATCGCTACAACCAATCCCGTGGCTACGGAGCAGT...</td>\n",
       "      <td>GGGTCACGCGTAGGAGAAGACATTACAGACGAAGAGGAAATCGCTA...</td>\n",
       "    </tr>\n",
       "    <tr>\n",
       "      <th>4</th>\n",
       "      <td>rnn_designed_plus_rand_train_walked</td>\n",
       "      <td>0</td>\n",
       "      <td>1</td>\n",
       "      <td>DEHEIRTTNPVATEQYGNVSTNLQGgGdNR</td>\n",
       "      <td>AGGACAGCTAACCTCAAT</td>\n",
       "      <td>GACGAACACGAAATCAGGACAACCAATCCCGTGGCTACGGAGCAGT...</td>\n",
       "      <td>GGGTCACGCGTAGGAGAAGACATTACAGACGAACACGAAATCAGGA...</td>\n",
       "    </tr>\n",
       "  </tbody>\n",
       "</table>\n",
       "</div>"
      ],
      "text/plain": [
       "                              category  control  rep  \\\n",
       "0  rnn_designed_plus_rand_train_walked        0    1   \n",
       "1  rnn_designed_plus_rand_train_walked        0    1   \n",
       "2  rnn_designed_plus_rand_train_walked        0    1   \n",
       "3  rnn_designed_plus_rand_train_walked        0    1   \n",
       "4  rnn_designed_plus_rand_train_walked        0    1   \n",
       "\n",
       "                            aa_seq             barcode  \\\n",
       "0   DEDEIRTTNPVATEQYGSVSTNLgGEGdNR  GTGTGTCCAGAATGCGGT   \n",
       "1  DEDEIRTTNPVATEQYGSVSTNLQDnGnNdR  GTCCGTTCTAATATCAGA   \n",
       "2   DEDEIRTTNPVATEQYGAVSTNLQGdGNdR  GCTAATCACACGTTGCAT   \n",
       "3   DEEEIATTNPVATEQYGSVSTNLQHdGDeR  GAAGGAACTGGAACTGTA   \n",
       "4   DEHEIRTTNPVATEQYGNVSTNLQGgGdNR  AGGACAGCTAACCTCAAT   \n",
       "\n",
       "                                              coding  \\\n",
       "0  GACGAAGATGAAATCAGGACAACCAATCCCGTGGCTACGGAGCAGT...   \n",
       "1  GACGAGGACGAAATCAGGACAACCAATCCCGTGGCTACGGAGCAGT...   \n",
       "2  GACGAGGACGAAATCAGGACAACCAATCCCGTGGCTACGGAGCAGT...   \n",
       "3  GACGAAGAGGAAATCGCTACAACCAATCCCGTGGCTACGGAGCAGT...   \n",
       "4  GACGAACACGAAATCAGGACAACCAATCCCGTGGCTACGGAGCAGT...   \n",
       "\n",
       "                                         full_nt_seq  \n",
       "0  GGGTCACGCGTAGGAGAAGACATTACAGACGAAGATGAAATCAGGA...  \n",
       "1  GGGTCACGCGTAGGAGAAGACATTACAGACGAGGACGAAATCAGGA...  \n",
       "2  GGGTCACGCGTAGGAGAAGACATTACAGACGAGGACGAAATCAGGA...  \n",
       "3  GGGTCACGCGTAGGAGAAGACATTACAGACGAAGAGGAAATCGCTA...  \n",
       "4  GGGTCACGCGTAGGAGAAGACATTACAGACGAACACGAAATCAGGA...  "
      ]
     },
     "execution_count": 5,
     "metadata": {},
     "output_type": "execute_result"
    }
   ],
   "source": [
    "chip1.head()"
   ]
  },
  {
   "cell_type": "code",
   "execution_count": 10,
   "metadata": {},
   "outputs": [],
   "source": [
    "from collections import Counter"
   ]
  },
  {
   "cell_type": "code",
   "execution_count": 11,
   "metadata": {},
   "outputs": [
    {
     "name": "stdout",
     "output_type": "stream",
     "text": [
      "Counter({'random_doubles': 33320, 'rnn_standard_walked': 21386, 'rnn_designed_plus_rand_train_walked': 21371, 'cnn_designed_plus_rand_train_walked': 21346, 'rnn_rand_doubles_plus_singles_walked': 21287, 'cnn_rand_doubles_plus_single_walked': 21235, 'lr_standard_walked': 21097, 'cnn_standard_walked': 21088, 'lr_rand_doubles_plus_single_walked': 20942, 'lr_designed_plus_rand_train_walked': 20236, 'singles': 4448, 'previous_chip_viable': 3000, 'previous_chip_nonviable': 3000, 'lr_rand_doubles_plus_single_seed': 2096, 'rnn_designed_plus_rand_train_seed': 2088, 'rnn_rand_doubles_plus_singles_seed': 2064, 'lr_designed_plus_rand_train_seed': 2041, 'cnn_rand_doubles_plus_single_seed': 2040, 'lr_standard_seed': 2004, 'cnn_standard_seed': 1940, 'rnn_standard_seed': 1934, 'cnn_designed_plus_rand_train_seed': 1916, 'wild_type': 200, 'stop': 171})\n"
     ]
    }
   ],
   "source": [
    "print(Counter(chip1.category))"
   ]
  },
  {
   "cell_type": "code",
   "execution_count": 12,
   "metadata": {},
   "outputs": [
    {
     "name": "stdout",
     "output_type": "stream",
     "text": [
      "Counter({'random_doubles': 33320, 'rnn_standard_walked': 20636, 'rnn_designed_plus_rand_train_walked': 20624, 'cnn_designed_plus_rand_train_walked': 20602, 'rnn_rand_doubles_plus_singles_walked': 20546, 'cnn_rand_doubles_plus_single_walked': 20491, 'cnn_standard_walked': 20350, 'lr_standard_walked': 20347, 'lr_rand_doubles_plus_single_walked': 20201, 'lr_designed_plus_rand_train_walked': 19507, 'lr_rand_doubles_plus_single_seed': 2096, 'rnn_designed_plus_rand_train_seed': 2088, 'rnn_rand_doubles_plus_singles_seed': 2064, 'lr_designed_plus_rand_train_seed': 2041, 'cnn_rand_doubles_plus_single_seed': 2040, 'lr_standard_seed': 2004, 'cnn_standard_seed': 1940, 'rnn_standard_seed': 1934, 'cnn_designed_plus_rand_train_seed': 1916})\n"
     ]
    }
   ],
   "source": [
    "print(Counter(chip1[chip1.control==0].category))"
   ]
  },
  {
   "cell_type": "code",
   "execution_count": 13,
   "metadata": {},
   "outputs": [
    {
     "name": "stdout",
     "output_type": "stream",
     "text": [
      "Counter({'singles': 4448, 'previous_chip_viable': 3000, 'previous_chip_nonviable': 3000, 'rnn_standard_walked': 750, 'lr_standard_walked': 750, 'rnn_designed_plus_rand_train_walked': 747, 'cnn_designed_plus_rand_train_walked': 744, 'cnn_rand_doubles_plus_single_walked': 744, 'rnn_rand_doubles_plus_singles_walked': 741, 'lr_rand_doubles_plus_single_walked': 741, 'cnn_standard_walked': 738, 'lr_designed_plus_rand_train_walked': 729, 'wild_type': 200, 'stop': 171})\n"
     ]
    }
   ],
   "source": [
    "print(Counter(chip1[chip1.control==1].category))"
   ]
  },
  {
   "cell_type": "code",
   "execution_count": 14,
   "metadata": {},
   "outputs": [
    {
     "data": {
      "text/plain": [
       "17503"
      ]
     },
     "execution_count": 14,
     "metadata": {},
     "output_type": "execute_result"
    }
   ],
   "source": [
    "len(chip1[chip1.control==1])"
   ]
  },
  {
   "cell_type": "code",
   "execution_count": 15,
   "metadata": {},
   "outputs": [],
   "source": [
    "def test_barcodes(chips):\n",
    "    barcodes=[]\n",
    "    desired_len=18\n",
    "    for chip in chips:\n",
    "        barcode_lens=set([len(x) for x in chip.barcode])\n",
    "        assert (len(barcode_lens)==1) and (list(barcode_lens)[0]==desired_len) , \"barcodes not the correct size\"\n",
    "        assert len(list(chip.barcode))==len(set(list(chip.barcode))), \"duplicate barcodes within a chip\"\n",
    "        barcodes.extend(list(chip.barcode))\n",
    "    assert len(barcodes)==len(set(barcodes)), \"duplicate barcodes between chips\"\n",
    "    print (\"All barcode tests passed\")\n",
    "    "
   ]
  },
  {
   "cell_type": "code",
   "execution_count": 16,
   "metadata": {},
   "outputs": [
    {
     "name": "stdout",
     "output_type": "stream",
     "text": [
      "All barcode tests passed\n"
     ]
    }
   ],
   "source": [
    "test_barcodes([chip1])"
   ]
  },
  {
   "cell_type": "code",
   "execution_count": 17,
   "metadata": {},
   "outputs": [],
   "source": [
    "from Bio import SeqIO \n",
    "from Bio.Data import CodonTable\n",
    "from Bio.Restriction import BbsI, BsaI, BsmBI, EcoRV, HindIII, XbaI, ScaI,BsrBI\n",
    "from Bio.Seq import Seq \n",
    "from Bio.SeqUtils import MeltingTemp as mt"
   ]
  },
  {
   "cell_type": "code",
   "execution_count": 18,
   "metadata": {},
   "outputs": [],
   "source": [
    "def test_translation(df):\n",
    "    try:\n",
    "        assert len(df[\"coding\"])==len(set(df[\"coding\"])),\"non unique coding region\"\n",
    "    except:\n",
    "        print (len(df[df.duplicated(\"coding\", keep=False)]),\"duplicated coding regions\")\n",
    "        print (len(df[(df.control==1)&(df.duplicated(\"coding\", keep=False))]),\"of duplicated codings are controls\")\n",
    "    for i, row in df.iterrows():\n",
    "        nt=row[\"coding\"]\n",
    "        aa=str(Seq(nt).translate())\n",
    "        assert row[\"barcode\"] in row[\"full_nt_seq\"], \"barcode not paired with full seq\"\n",
    "        assert aa==str(row[\"aa_seq\"]).upper(), \"wrong translation\"\n",
    "      \n",
    "    print (\"Barcodes match sequences, all coding regions translate to corresponding peptides\")"
   ]
  },
  {
   "cell_type": "code",
   "execution_count": 19,
   "metadata": {},
   "outputs": [
    {
     "name": "stdout",
     "output_type": "stream",
     "text": [
      "1051 duplicated coding regions\n",
      "991 of duplicated codings are controls\n",
      "Barcodes match sequences, all coding regions translate to corresponding peptides\n"
     ]
    }
   ],
   "source": [
    "test_translation(chip1)"
   ]
  },
  {
   "cell_type": "code",
   "execution_count": 20,
   "metadata": {},
   "outputs": [
    {
     "name": "stdout",
     "output_type": "stream",
     "text": [
      "['GGTCTC', 'GAGACC', 'AAGCTT', 'TCTAGA', 'GAAGAC', 'GTCTTC', 'CGTCTC', 'GAGACG', 'GATATC', 'CCGCTC', 'GAGCGG', 'AAAAA', 'CCCCC', 'GGGGG', 'TTTTT']\n"
     ]
    }
   ],
   "source": [
    "re_list = []\n",
    "for x in [BsaI, HindIII, XbaI, BbsI, BsmBI, EcoRV,BsrBI]:\n",
    "    re_list.append(x.site)\n",
    "    rc = str(Seq(x.site).reverse_complement())\n",
    "    if rc != x.site:\n",
    "        re_list.append(rc)\n",
    "homopolymer=[]\n",
    "for nt in ['A', 'C', 'G', 'T']:\n",
    "    for n in range(5,6):\n",
    "        site = ''.join([nt]*n)\n",
    "        re_list.append(site)\n",
    "        homopolymer.append(site)\n",
    "print (re_list)"
   ]
  },
  {
   "cell_type": "code",
   "execution_count": 21,
   "metadata": {},
   "outputs": [],
   "source": [
    "import re\n",
    "def check_re_sites(nt_seq, re_list):\n",
    "    count = 0\n",
    "    for site in re_list:\n",
    "        site_loc = re.finditer(site, nt_seq.upper())\n",
    "        for loc in site_loc:\n",
    "            count+=1\n",
    "    return count\n"
   ]
  },
  {
   "cell_type": "code",
   "execution_count": 22,
   "metadata": {},
   "outputs": [],
   "source": [
    "def augment_with_reverse_complements(re_list):\n",
    "    for enz_site in re_list:\n",
    "        rc = str(Seq(enz_site).reverse_complement())\n",
    "        if rc not in re_list:\n",
    "           re_list.append(rc)\n",
    "    return re_list"
   ]
  },
  {
   "cell_type": "code",
   "execution_count": 23,
   "metadata": {},
   "outputs": [
    {
     "name": "stdout",
     "output_type": "stream",
     "text": [
      "Correct count for BbsI, BsaI, EcoRV,ScaI\n"
     ]
    }
   ],
   "source": [
    "def check_cut_site_counts(df):\n",
    "    for i,row in df.iterrows():\n",
    "        seq=row[\"full_nt_seq\"]\n",
    "        assert check_re_sites(seq,augment_with_reverse_complements([BbsI.site]))==2,  \"Wrong count BbsI sites\"\n",
    "        assert check_re_sites(seq,augment_with_reverse_complements([BsaI.site]))==2,  \"Wrong count BsaI sites\"\n",
    "        assert check_re_sites(seq,augment_with_reverse_complements([BsrBI.site]))==0,  \"Wrong count BsrBI sites\"\n",
    "        assert check_re_sites(seq,augment_with_reverse_complements([EcoRV.site]))==1,  \"Wrong count EcoRV sites\"\n",
    "        assert check_re_sites(seq,augment_with_reverse_complements([BsmBI.site]))==0,  \"Wrong count BsmbI sites\"\n",
    "        assert check_re_sites(seq,augment_with_reverse_complements([HindIII.site]))==0,  \"Wrong count HindIII sites\"\n",
    "        assert check_re_sites(seq,augment_with_reverse_complements([XbaI.site]))==0,  \"Wrong count XbaI sites\"\n",
    "    else:\n",
    "        print (\"Correct count for BbsI, BsaI, EcoRV,ScaI\")\n",
    "\n",
    "check_cut_site_counts(chip1)\n"
   ]
  },
  {
   "cell_type": "code",
   "execution_count": 24,
   "metadata": {},
   "outputs": [],
   "source": [
    "# fill sequences with Ts for agilent products to be of the same size\n",
    "def append_T(seq,max_len=230):\n",
    "    new_seq=\"\".join(seq)\n",
    "    while len(new_seq)<max_len:\n",
    "        new_seq=new_seq+\"t\"\n",
    "    return new_seq\n",
    "\n",
    "#produce a final textfile for ordering\n",
    "def make_outfile_from_chip(outfile_name,chip,skip=[], max_size=244000,capitalize=False):\n",
    "    with open(outfile_name,\"w\") as outfile:\n",
    "        for i, row in chip.iterrows():\n",
    "            if i not in skip:\n",
    "                out_seq=\"\"\n",
    "                if len(row.full_nt_seq)<230:\n",
    "                    out_seq=append_T(row.full_nt_seq)\n",
    "                else:\n",
    "                    out_seq=row.full_nt_seq\n",
    "                if capitalize:\n",
    "                   out_seq=out_seq.upper() \n",
    "                outfile.write(out_seq+\"\\n\")\n",
    "            if i==(max_size+len(skip)-1):\n",
    "                break\n"
   ]
  },
  {
   "cell_type": "code",
   "execution_count": 26,
   "metadata": {},
   "outputs": [],
   "source": [
    "# BsrBI=Skipping variant 3824 because of primer annealing on the sequence:  DEHEIATTNPVAYEQWGSVSTNLQSgGeNdD\t\n",
    "\n",
    "#make_outfile_from_chip(f'{path_to_synthesis_files}chip_for_agilent.txt',chip1, skip=[3824],capitalize=True)"
   ]
  },
  {
   "cell_type": "code",
   "execution_count": 27,
   "metadata": {},
   "outputs": [
    {
     "data": {
      "text/plain": [
       "'GGGTCACGCGTAGGAGAAGACATTACAGACGAAGAGGAAATCAGGACAACCAATCCCGTGGCTACGGAGCAGTATGGTTCTGTATCTACCAACCTCCAGAGAGGCAACAGACAAGCGAGACCGATATCGGTCTCACGCTGTAATGCGGTCTGAGCCGCGCTAAGTCTTCGTGTGGCTGCGGAAC'"
      ]
     },
     "execution_count": 27,
     "metadata": {},
     "output_type": "execute_result"
    }
   ],
   "source": [
    "chip1[chip1.category==\"wild_type\"].iloc[0].full_nt_seq # chip1 wt in the final file at line 218730"
   ]
  }
 ],
 "metadata": {
  "kernelspec": {
   "display_name": "Python 3",
   "language": "python",
   "name": "python3"
  },
  "language_info": {
   "codemirror_mode": {
    "name": "ipython",
    "version": 3
   },
   "file_extension": ".py",
   "mimetype": "text/x-python",
   "name": "python",
   "nbconvert_exporter": "python",
   "pygments_lexer": "ipython3",
   "version": "3.6.6"
  }
 },
 "nbformat": 4,
 "nbformat_minor": 2
}
