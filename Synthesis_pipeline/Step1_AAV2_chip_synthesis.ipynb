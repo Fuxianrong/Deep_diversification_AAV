{
 "cells": [
  {
   "cell_type": "markdown",
   "metadata": {},
   "source": [
    "## Generate sequences for AAV2 Chip with agilent \n",
    "\n",
    "\n",
    "Design of the tile is outlined below\n",
    "\n",
    "Number in parenthesis are the size of each element \n",
    "\n",
    "oh=overhang \n",
    "\n",
    "SkppF(15)---3BbsI(6)---oh(5)---VariantSeq---oh(5)---5BsaI(6)---EcoRV(6)---3BsaI(6)---Bar_oh(5)---Barcode(20)---Bar_oh(5)---5BbsI(6)---SkppR(15)\n",
    "\n",
    "\n",
    "The first 3 components before the VariantSeq are labeled \"upstream\" in the code, and the ones after are refered to as downstream. All assemblies need to be checked to not introduce any cut sites for other enzymes used in cloning.\n",
    "\n",
    "### Notes :\n",
    "* Due to randomness in this code, running this will not result in the same exact set of nucleotide variants, as barcodes get matched randomly, and backtranslations from AA seq to nt has randomness associated with it. \n",
    "* This chip design includes barcodes, which were not used in the post-experiment analysis, as the full amplicon sequencing provided sufficient quality. "
   ]
  },
  {
   "cell_type": "code",
   "execution_count": null,
   "metadata": {},
   "outputs": [],
   "source": [
    "path_to_synthesis_files='../Data/data_for_synthesis_pipeline/'"
   ]
  },
  {
   "cell_type": "code",
   "execution_count": 1,
   "metadata": {
    "collapsed": true
   },
   "outputs": [],
   "source": [
    "import csv  \n",
    "from collections import Counter \n",
    "from itertools import product\n",
    "import os\n",
    "import pickle\n",
    "import re\n",
    "import sys \n",
    "import random\n",
    "import pdb\n",
    "%matplotlib inline\n",
    "import matplotlib.pyplot as plt\n",
    "import seaborn as sns\n",
    "\n",
    "from Bio import SeqIO \n",
    "from Bio.Data import CodonTable\n",
    "from Bio.Restriction import BbsI, BsaI, BsmBI, EcoRV, HindIII, XbaI, ScaI,BsrBI\n",
    "from Bio.Seq import Seq \n",
    "from Bio.SeqUtils import MeltingTemp as mt\n",
    "import pandas as pd\n",
    "import numpy as np"
   ]
  },
  {
   "cell_type": "code",
   "execution_count": 2,
   "metadata": {
    "collapsed": true
   },
   "outputs": [],
   "source": [
    "import editdistance"
   ]
  },
  {
   "cell_type": "code",
   "execution_count": 3,
   "metadata": {
    "collapsed": true
   },
   "outputs": [],
   "source": [
    "%reload_ext autoreload\n",
    "%autoreload 2\n",
    "from src.oligo import *\n",
    "from src.oligo import Oligo"
   ]
  },
  {
   "cell_type": "code",
   "execution_count": 4,
   "metadata": {
    "collapsed": true
   },
   "outputs": [],
   "source": [
    "WT_NT_AAV2_T21= 'GACGAAGAGGAAATCAGGACAACCAATCCCGTGGCTACGGAGCAGTATGGTTCTGTATCTACCAACCTCCAGAGAGGCAACAGA'\n",
    "WT_AA_AAV2_T21 = 'DEEEIRTTNPVATEQYGSVSTNLQRGNR'\n"
   ]
  },
  {
   "cell_type": "code",
   "execution_count": 5,
   "metadata": {},
   "outputs": [
    {
     "name": "stdout",
     "output_type": "stream",
     "text": [
      "['GGTCTC', 'GAGACC', 'AAGCTT', 'TCTAGA', 'GAAGAC', 'GTCTTC', 'CGTCTC', 'GAGACG', 'GATATC', 'CCGCTC', 'GAGCGG', 'AAAAA', 'CCCCC', 'GGGGG', 'TTTTT']\n"
     ]
    }
   ],
   "source": [
    "re_list = []\n",
    "for x in [BsaI, HindIII, XbaI, BbsI, BsmBI, EcoRV,BsrBI]:\n",
    "    re_list.append(x.site)\n",
    "    rc = str(Seq(x.site).reverse_complement())\n",
    "    if rc != x.site:\n",
    "        re_list.append(rc)\n",
    "homopolymer=[]\n",
    "for nt in ['A', 'C', 'G', 'T']:\n",
    "    for n in range(5,6):\n",
    "        site = ''.join([nt]*n)\n",
    "        re_list.append(site)\n",
    "        homopolymer.append(site)\n",
    "print (re_list)"
   ]
  },
  {
   "cell_type": "code",
   "execution_count": 7,
   "metadata": {},
   "outputs": [
    {
     "data": {
      "text/plain": [
       "['AAAAA', 'CCCCC', 'GGGGG', 'TTTTT']"
      ]
     },
     "execution_count": 7,
     "metadata": {},
     "output_type": "execute_result"
    }
   ],
   "source": [
    "homopolymer"
   ]
  },
  {
   "cell_type": "code",
   "execution_count": 6,
   "metadata": {
    "collapsed": true
   },
   "outputs": [],
   "source": [
    "def compute_BC_OH(enz):\n",
    "    nts=[\"A\",\"T\",\"G\",\"C\"]\n",
    "    seq=enz.site\n",
    "    start_filter=seq[-1]\n",
    "    end_filter=seq[0]\n",
    "    if end_filter in nts[:2]:\n",
    "        OH_BC_5=nts[3]+seq[1:5]\n",
    "    else:\n",
    "        OH_BC_5=nts[0]+seq[1:5]\n",
    "    \n",
    "    if start_filter ==\"A\":\n",
    "        OH_BC_3=seq[1:5]\n",
    "        appendix=\"TT\"\n",
    "    else:\n",
    "        OH_BC_3=seq[1:5]\n",
    "        appendix=\"AA\"\n",
    "    rev_comp_OH_BC_3=str(Seq(OH_BC_3))+appendix\n",
    "    print (rev_comp_OH_BC_3)\n",
    "    return OH_BC_5,rev_comp_OH_BC_3,start_filter,end_filter"
   ]
  },
  {
   "cell_type": "code",
   "execution_count": 7,
   "metadata": {},
   "outputs": [
    {
     "name": "stdout",
     "output_type": "stream",
     "text": [
      "CGCTAA\n"
     ]
    }
   ],
   "source": [
    "OH_BC_5,OH_BC_3,start_filter,end_filter=compute_BC_OH(BsrBI)"
   ]
  },
  {
   "cell_type": "code",
   "execution_count": 8,
   "metadata": {},
   "outputs": [
    {
     "data": {
      "text/plain": [
       "('CGCTAA', 'ACGCT')"
      ]
     },
     "execution_count": 8,
     "metadata": {},
     "output_type": "execute_result"
    }
   ],
   "source": [
    "OH_BC_3,OH_BC_5"
   ]
  },
  {
   "cell_type": "markdown",
   "metadata": {},
   "source": [
    "### Generating Barcodes\n",
    "Only run this part if you want to make new barcodes.\n",
    "Otherwise skip to next section marked \"RUN FROM HERE\""
   ]
  },
  {
   "cell_type": "code",
   "execution_count": 21,
   "metadata": {},
   "outputs": [
    {
     "name": "stdout",
     "output_type": "stream",
     "text": [
      "CGCTAA\n"
     ]
    }
   ],
   "source": [
    "OH_BC_5,OH_BC_3,start_filter,end_filter=compute_BC_OH(BsrBI)"
   ]
  },
  {
   "cell_type": "code",
   "execution_count": null,
   "metadata": {},
   "outputs": [],
   "source": [
    "candidates_odd=[]\n",
    "candidates_even=[]\n",
    "with open(f'{path_to_synthesis_files}barcodes16-1.txt',\"r\") as all_barcodes:\n",
    "    count=0\n",
    "    for line in all_barcodes :\n",
    "        \n",
    "        skip=False\n",
    "        seq=line.strip(\"\\n\")\n",
    "        \n",
    "       # if line.startswith(start_filter) or line.endswith(end_filter): #filter barcodes\n",
    "        #    count+=1\n",
    "         #   continue\n",
    "        #else:\n",
    "        for re in re_list:\n",
    "            if re in seq:\n",
    "               skip=True\n",
    "        if not skip:\n",
    "            if count %2==0:\n",
    "                candidates_even.append(seq)\n",
    "            else:\n",
    "                candidates_odd.append(seq)\n",
    "        count+=1"
   ]
  },
  {
   "cell_type": "code",
   "execution_count": 184,
   "metadata": {},
   "outputs": [
    {
     "data": {
      "text/plain": [
       "(793042, 793035)"
      ]
     },
     "execution_count": 184,
     "metadata": {},
     "output_type": "execute_result"
    }
   ],
   "source": [
    "len(candidates_odd),len(candidates_even)"
   ]
  },
  {
   "cell_type": "code",
   "execution_count": 185,
   "metadata": {
    "collapsed": true
   },
   "outputs": [],
   "source": [
    "short_bc=[\"A\",\"C\",\"T\",\"G\"]"
   ]
  },
  {
   "cell_type": "code",
   "execution_count": 186,
   "metadata": {
    "collapsed": true
   },
   "outputs": [],
   "source": [
    "def compute_left_right_appendix(bc,shorts,start_filter,end_filter):\n",
    "    left=random.choice(shorts)\n",
    "    while left.endswith(bc[0]) or left.startswith(start_filter):\n",
    "          left=random.choice(shorts)\n",
    "    right=random.choice(shorts)\n",
    "    while right.startswith(bc[-1]) or right.endswith(end_filter):\n",
    "          right=random.choice(shorts)\n",
    "    return left,right\n",
    "\n",
    "def assemble_compound_barcodes(shorts,longs,start_filter,end_filter,re_list):\n",
    "    compound_bcs=[]\n",
    "    for bc in longs:\n",
    "        left,right=compute_left_right_appendix(bc,shorts,start_filter,end_filter)\n",
    "        count=0\n",
    "        while check_re_sites(left+bc+right,re_list)!=0 and count<1000:\n",
    "            left,right=compute_left_right_appendix(bc,shorts,start_filter,end_filter)\n",
    "            count+=1\n",
    "        if count==1000:\n",
    "            continue\n",
    "        else:\n",
    "            compound_bcs.append(left+bc+right)\n",
    "    return compound_bcs\n",
    "             \n",
    "        "
   ]
  },
  {
   "cell_type": "code",
   "execution_count": null,
   "metadata": {},
   "outputs": [],
   "source": [
    "comp_barcodes_odd=assemble_compound_barcodes(short_bc,candidates_odd,start_filter,end_filter,re_list)"
   ]
  },
  {
   "cell_type": "code",
   "execution_count": null,
   "metadata": {
    "collapsed": true
   },
   "outputs": [],
   "source": [
    "comp_barcodes_even=assemble_compound_barcodes(short_bc,candidates_even,start_filter,end_filter,re_list)"
   ]
  },
  {
   "cell_type": "code",
   "execution_count": null,
   "metadata": {
    "collapsed": true
   },
   "outputs": [],
   "source": [
    "len(comp_barcodes_odd),len(set(comp_barcodes_odd)),len(comp_barcodes_even),len(set(comp_barcodes_even))"
   ]
  },
  {
   "cell_type": "code",
   "execution_count": 20,
   "metadata": {},
   "outputs": [
    {
     "name": "stdout",
     "output_type": "stream",
     "text": [
      "3 3\n"
     ]
    }
   ],
   "source": [
    "dists_odd=[]\n",
    "dists_even=[]\n",
    "for i in range(1000):\n",
    "    for j in range(1000):\n",
    "        seq1=random.choice(comp_barcodes_odd)\n",
    "        seq2=random.choice(comp_barcodes_odd)\n",
    "        if seq1!=seq2:\n",
    "            dists_odd.append(editdistance.eval(seq1,seq2))\n",
    "        seq1=random.choice(comp_barcodes_even)\n",
    "        seq2=random.choice(comp_barcodes_even)\n",
    "        if seq1!=seq2:\n",
    "            dists_even.append(editdistance.eval(seq1,seq2))\n",
    "print (min(dists_odd),min(dists_even))"
   ]
  },
  {
   "cell_type": "code",
   "execution_count": 22,
   "metadata": {},
   "outputs": [
    {
     "data": {
      "text/plain": [
       "['GAACAACAACAACAACCG',\n",
       " 'GAACAACAACAACCGCAG',\n",
       " 'GAACAACAACAAGCTCCT',\n",
       " 'TAACAACAACACAAGAGT',\n",
       " 'TAACAACAACACCATGCT',\n",
       " 'GAACAACAACACGCCACG',\n",
       " 'GAACAACAACACTCTAGT',\n",
       " 'TAACAACAACAGACCTAG',\n",
       " 'TAACAACAACAGGAAGGT',\n",
       " 'GAACAACAACAGTAGCAT']"
      ]
     },
     "execution_count": 22,
     "metadata": {},
     "output_type": "execute_result"
    }
   ],
   "source": [
    "comp_barcodes_even[:10]"
   ]
  },
  {
   "cell_type": "code",
   "execution_count": 23,
   "metadata": {
    "collapsed": true
   },
   "outputs": [],
   "source": [
    "file_1_candidates=random.sample(comp_barcodes_odd,380000)"
   ]
  },
  {
   "cell_type": "code",
   "execution_count": 25,
   "metadata": {},
   "outputs": [
    {
     "name": "stdout",
     "output_type": "stream",
     "text": [
      "set()\n",
      "380000 380000\n"
     ]
    }
   ],
   "source": [
    "print(len(set(file_1_candidates))"
   ]
  },
  {
   "cell_type": "code",
   "execution_count": 26,
   "metadata": {
    "collapsed": true
   },
   "outputs": [],
   "source": [
    "with open(f'{path_to_synthesis_files}c1barcodes16-1_app_BsrBI.txt',\"w\") as chip1:\n",
    "   chip1.write(\"\\n\".join(file_1_candidates))"
   ]
  },
  {
   "cell_type": "code",
   "execution_count": 27,
   "metadata": {
    "collapsed": true
   },
   "outputs": [],
   "source": [
    "candidates_odd=[]\n",
    "file_1_candidates=[]\n",
    "comp_barcodes_odd=[]"
   ]
  },
  {
   "cell_type": "markdown",
   "metadata": {},
   "source": [
    "### Assembling tiles\n",
    "Run from here if you have barcodes already. "
   ]
  },
  {
   "cell_type": "code",
   "execution_count": 9,
   "metadata": {},
   "outputs": [
    {
     "data": {
      "text/plain": [
       "(['GTGTGTCCAGAATGCGGT', 'GTCCGTTCTAATATCAGA', 'GCTAATCACACGTTGCAT'], 380000)"
      ]
     },
     "execution_count": 9,
     "metadata": {},
     "output_type": "execute_result"
    }
   ],
   "source": [
    "with open(f'{path_to_synthesis_files}c1barcodes16-1_app_BsrBI.txt',\"r\") as bc_1:\n",
    "    barcodes=[line.strip(\"\\n\") for line in bc_1]\n",
    "standard_table = CodonTable.unambiguous_dna_by_name[\"Standard\"]\n",
    "codons = standard_table.forward_table.keys()\n",
    "#random.seed(1)\n",
    "#random.shuffle(barcodes)\n",
    "barcodes[:3],len(barcodes)"
   ]
  },
  {
   "cell_type": "code",
   "execution_count": 10,
   "metadata": {
    "collapsed": true
   },
   "outputs": [],
   "source": [
    "def calc_tm(seq, K=50, Tris=25, Mg=2, dNTPs=.2):\n",
    "    tm = mt.Tm_NN(seq, nn_table=mt.DNA_NN4, K=K, Tris=Tris, Mg=Mg, dNTPs=dNTPs)\n",
    "    return tm"
   ]
  },
  {
   "cell_type": "code",
   "execution_count": 11,
   "metadata": {
    "collapsed": true
   },
   "outputs": [],
   "source": [
    "Tms=[]\n",
    "for bc in barcodes:\n",
    "    Tms.append(calc_tm(bc))"
   ]
  },
  {
   "cell_type": "code",
   "execution_count": 12,
   "metadata": {},
   "outputs": [
    {
     "data": {
      "text/plain": [
       "<matplotlib.axes._subplots.AxesSubplot at 0x10d21c240>"
      ]
     },
     "execution_count": 12,
     "metadata": {},
     "output_type": "execute_result"
    },
    {
     "data": {
      "image/png": "[encoded data removed]",
      "text/plain": [
       "<matplotlib.figure.Figure at 0x10ad39048>"
      ]
     },
     "metadata": {},
     "output_type": "display_data"
    }
   ],
   "source": [
    "sns.distplot(Tms)"
   ]
  },
  {
   "cell_type": "code",
   "execution_count": 13,
   "metadata": {},
   "outputs": [
    {
     "data": {
      "text/html": [
       "<div>\n",
       "<style scoped>\n",
       "    .dataframe tbody tr th:only-of-type {\n",
       "        vertical-align: middle;\n",
       "    }\n",
       "\n",
       "    .dataframe tbody tr th {\n",
       "        vertical-align: top;\n",
       "    }\n",
       "\n",
       "    .dataframe thead th {\n",
       "        text-align: right;\n",
       "    }\n",
       "</style>\n",
       "<table border=\"1\" class=\"dataframe\">\n",
       "  <thead>\n",
       "    <tr style=\"text-align: right;\">\n",
       "      <th></th>\n",
       "      <th>category</th>\n",
       "      <th>control</th>\n",
       "      <th>sequence</th>\n",
       "    </tr>\n",
       "  </thead>\n",
       "  <tbody>\n",
       "    <tr>\n",
       "      <th>0</th>\n",
       "      <td>rnn_designed_plus_rand_train_walked</td>\n",
       "      <td>0.0</td>\n",
       "      <td>DEDEIRTTNPVATEQYGSVSTNLgGEGdNR</td>\n",
       "    </tr>\n",
       "    <tr>\n",
       "      <th>1</th>\n",
       "      <td>rnn_designed_plus_rand_train_walked</td>\n",
       "      <td>0.0</td>\n",
       "      <td>DEDEIRTTNPVATEQYGSVSTNLQDnGnNdR</td>\n",
       "    </tr>\n",
       "    <tr>\n",
       "      <th>2</th>\n",
       "      <td>rnn_designed_plus_rand_train_walked</td>\n",
       "      <td>0.0</td>\n",
       "      <td>DEDEIRTTNPVATEQYGAVSTNLQGdGNdR</td>\n",
       "    </tr>\n",
       "    <tr>\n",
       "      <th>3</th>\n",
       "      <td>rnn_designed_plus_rand_train_walked</td>\n",
       "      <td>0.0</td>\n",
       "      <td>DEEEIATTNPVATEQYGSVSTNLQHdGDeR</td>\n",
       "    </tr>\n",
       "    <tr>\n",
       "      <th>4</th>\n",
       "      <td>rnn_designed_plus_rand_train_walked</td>\n",
       "      <td>0.0</td>\n",
       "      <td>DEHEIRTTNPVATEQYGNVSTNLQGgGdNR</td>\n",
       "    </tr>\n",
       "  </tbody>\n",
       "</table>\n",
       "</div>"
      ],
      "text/plain": [
       "                              category  control  \\\n",
       "0  rnn_designed_plus_rand_train_walked      0.0   \n",
       "1  rnn_designed_plus_rand_train_walked      0.0   \n",
       "2  rnn_designed_plus_rand_train_walked      0.0   \n",
       "3  rnn_designed_plus_rand_train_walked      0.0   \n",
       "4  rnn_designed_plus_rand_train_walked      0.0   \n",
       "\n",
       "                          sequence  \n",
       "0   DEDEIRTTNPVATEQYGSVSTNLgGEGdNR  \n",
       "1  DEDEIRTTNPVATEQYGSVSTNLQDnGnNdR  \n",
       "2   DEDEIRTTNPVATEQYGAVSTNLQGdGNdR  \n",
       "3   DEEEIATTNPVATEQYGSVSTNLQHdGDeR  \n",
       "4   DEHEIRTTNPVATEQYGNVSTNLQGgGdNR  "
      ]
     },
     "execution_count": 13,
     "metadata": {},
     "output_type": "execute_result"
    }
   ],
   "source": [
    "chip1_data=pd.read_csv(f'{path_to_synthesis_files}chip1_GAS_nredundant.csv') #designed sequences\n",
    "doubles=pd.read_csv(f'{path_to_synthesis_files}backfill_random_doubles.csv') #backfill the chip with random doubles if there is room\n",
    "singles=pd.read_csv(f'{path_to_synthesis_files}singles.csv',index_col=0) #single mutations\n",
    "wild_type=pd.DataFrame([[\"wild_type\",1,WT_AA_AAV2_T21]],columns=[\"category\",\"control\",\"sequence\"])\n",
    "chip1_data=chip1_data.append(doubles)\n",
    "chip1_data=chip1_data.append(singles)\n",
    "chip1_data=chip1_data.append(wild_type)\n",
    "chip1_data=chip1_data.reset_index(drop=1)\n",
    "chip1_data.head()"
   ]
  },
  {
   "cell_type": "code",
   "execution_count": 14,
   "metadata": {},
   "outputs": [
    {
     "data": {
      "text/plain": [
       "1169"
      ]
     },
     "execution_count": 14,
     "metadata": {},
     "output_type": "execute_result"
    }
   ],
   "source": [
    "len(singles.sequence) # (ins)29*21+(subs)28*20"
   ]
  },
  {
   "cell_type": "code",
   "execution_count": 15,
   "metadata": {},
   "outputs": [
    {
     "data": {
      "text/html": [
       "<div>\n",
       "<style scoped>\n",
       "    .dataframe tbody tr th:only-of-type {\n",
       "        vertical-align: middle;\n",
       "    }\n",
       "\n",
       "    .dataframe tbody tr th {\n",
       "        vertical-align: top;\n",
       "    }\n",
       "\n",
       "    .dataframe thead th {\n",
       "        text-align: right;\n",
       "    }\n",
       "</style>\n",
       "<table border=\"1\" class=\"dataframe\">\n",
       "  <thead>\n",
       "    <tr style=\"text-align: right;\">\n",
       "      <th></th>\n",
       "      <th>category</th>\n",
       "      <th>control</th>\n",
       "      <th>sequence</th>\n",
       "    </tr>\n",
       "  </thead>\n",
       "  <tbody>\n",
       "    <tr>\n",
       "      <th>241465</th>\n",
       "      <td>singles</td>\n",
       "      <td>1.0</td>\n",
       "      <td>tDEEEIRTTNPVATEQYGSVSTNLQRGNR</td>\n",
       "    </tr>\n",
       "    <tr>\n",
       "      <th>241466</th>\n",
       "      <td>singles</td>\n",
       "      <td>1.0</td>\n",
       "      <td>vDEEEIRTTNPVATEQYGSVSTNLQRGNR</td>\n",
       "    </tr>\n",
       "    <tr>\n",
       "      <th>241467</th>\n",
       "      <td>singles</td>\n",
       "      <td>1.0</td>\n",
       "      <td>wDEEEIRTTNPVATEQYGSVSTNLQRGNR</td>\n",
       "    </tr>\n",
       "    <tr>\n",
       "      <th>241468</th>\n",
       "      <td>singles</td>\n",
       "      <td>1.0</td>\n",
       "      <td>yDEEEIRTTNPVATEQYGSVSTNLQRGNR</td>\n",
       "    </tr>\n",
       "    <tr>\n",
       "      <th>241469</th>\n",
       "      <td>wild_type</td>\n",
       "      <td>1.0</td>\n",
       "      <td>DEEEIRTTNPVATEQYGSVSTNLQRGNR</td>\n",
       "    </tr>\n",
       "  </tbody>\n",
       "</table>\n",
       "</div>"
      ],
      "text/plain": [
       "         category  control                       sequence\n",
       "241465    singles      1.0  tDEEEIRTTNPVATEQYGSVSTNLQRGNR\n",
       "241466    singles      1.0  vDEEEIRTTNPVATEQYGSVSTNLQRGNR\n",
       "241467    singles      1.0  wDEEEIRTTNPVATEQYGSVSTNLQRGNR\n",
       "241468    singles      1.0  yDEEEIRTTNPVATEQYGSVSTNLQRGNR\n",
       "241469  wild_type      1.0   DEEEIRTTNPVATEQYGSVSTNLQRGNR"
      ]
     },
     "execution_count": 15,
     "metadata": {},
     "output_type": "execute_result"
    }
   ],
   "source": [
    "chip1_data.tail()"
   ]
  },
  {
   "cell_type": "code",
   "execution_count": 16,
   "metadata": {},
   "outputs": [
    {
     "data": {
      "text/plain": [
       "241470"
      ]
     },
     "execution_count": 16,
     "metadata": {},
     "output_type": "execute_result"
    }
   ],
   "source": [
    "len(chip1_data)"
   ]
  },
  {
   "cell_type": "code",
   "execution_count": 17,
   "metadata": {},
   "outputs": [
    {
     "data": {
      "text/plain": [
       "(236051, 5419, 33320)"
      ]
     },
     "execution_count": 17,
     "metadata": {},
     "output_type": "execute_result"
    }
   ],
   "source": [
    "len(chip1_data[chip1_data.control==0]),len(chip1_data[chip1_data.control==1]),len(chip1_data[chip1_data[\"category\"]==\"random_doubles\"])"
   ]
  },
  {
   "cell_type": "code",
   "execution_count": 18,
   "metadata": {},
   "outputs": [
    {
     "name": "stdout",
     "output_type": "stream",
     "text": [
      "rnn_standard_walked\n",
      "250\n",
      "wild_type\n",
      "1\n",
      "previous_chip_viable\n",
      "1000\n",
      "cnn_designed_plus_rand_train_walked\n",
      "250\n",
      "rnn_designed_plus_rand_train_walked\n",
      "250\n",
      "rnn_rand_doubles_plus_singles_walked\n",
      "250\n",
      "singles\n",
      "1112\n",
      "cnn_standard_walked\n",
      "250\n",
      "previous_chip_nonviable\n",
      "1000\n",
      "cnn_rand_doubles_plus_single_walked\n",
      "250\n",
      "lr_standard_walked\n",
      "250\n",
      "lr_rand_doubles_plus_single_walked\n",
      "249\n",
      "lr_designed_plus_rand_train_walked\n",
      "250\n",
      "stop\n",
      "57\n"
     ]
    }
   ],
   "source": [
    "for i in set(chip1_data[chip1_data.control==1][\"category\"]):\n",
    " print (i)\n",
    " print(len(chip1_data[(chip1_data.control==1)&(chip1_data.category==i)]))"
   ]
  },
  {
   "cell_type": "code",
   "execution_count": 19,
   "metadata": {
    "collapsed": true
   },
   "outputs": [],
   "source": [
    "def create_backtranslation_table(include_stops = False):\n",
    "    codon_aa = CodonTable.unambiguous_dna_by_name[\"Standard\"].forward_table\n",
    "    if include_stops:\n",
    "        codon_aa['TAG']='*'\n",
    "        codon_aa['TAA']='*'\n",
    "        codon_aa['TGA']='*'\n",
    "    aa_codon = {}\n",
    "    for codon in codon_aa:\n",
    "        # print codon, codon_aa[codon]\n",
    "        aa = codon_aa[codon]\n",
    "        if aa in aa_codon:\n",
    "            aa_codon[aa].append(codon)\n",
    "        else:\n",
    "            aa_codon[aa] = [codon]\n",
    "    return aa_codon"
   ]
  },
  {
   "cell_type": "code",
   "execution_count": 20,
   "metadata": {
    "collapsed": true
   },
   "outputs": [],
   "source": [
    "aa_codon=create_backtranslation_table(include_stops=True)"
   ]
  },
  {
   "cell_type": "code",
   "execution_count": 21,
   "metadata": {},
   "outputs": [
    {
     "data": {
      "text/plain": [
       "['GGTCTC',\n",
       " 'GAGACC',\n",
       " 'AAGCTT',\n",
       " 'TCTAGA',\n",
       " 'GAAGAC',\n",
       " 'GTCTTC',\n",
       " 'CGTCTC',\n",
       " 'GAGACG',\n",
       " 'GATATC',\n",
       " 'CCGCTC',\n",
       " 'GAGCGG',\n",
       " 'AAAAA',\n",
       " 'CCCCC',\n",
       " 'GGGGG',\n",
       " 'TTTTT']"
      ]
     },
     "execution_count": 21,
     "metadata": {},
     "output_type": "execute_result"
    }
   ],
   "source": [
    "#re_sites=augment_with_reverse_complements([x.site for x in [BbsI, BsaI, BsmBI, EcoRV,HindIII, XbaI,ScaI]])\n",
    "re_sites=re_list\n",
    "re_sites"
   ]
  },
  {
   "cell_type": "code",
   "execution_count": 22,
   "metadata": {},
   "outputs": [
    {
     "data": {
      "text/plain": [
       "236051"
      ]
     },
     "execution_count": 22,
     "metadata": {},
     "output_type": "execute_result"
    }
   ],
   "source": [
    "mutants=list(chip1_data[chip1_data.control==0].sequence)\n",
    "len(mutants)"
   ]
  },
  {
   "cell_type": "code",
   "execution_count": 23,
   "metadata": {},
   "outputs": [
    {
     "data": {
      "text/plain": [
       "<matplotlib.axes._subplots.AxesSubplot at 0x10f513a90>"
      ]
     },
     "execution_count": 23,
     "metadata": {},
     "output_type": "execute_result"
    },
    {
     "data": {
      "image/png": "[encoded data removed]",
      "text/plain": [
       "<matplotlib.figure.Figure at 0x10f5134a8>"
      ]
     },
     "metadata": {},
     "output_type": "display_data"
    }
   ],
   "source": [
    "len_muts=[len(i) for i in mutants]\n",
    "sns.distplot(len_muts)"
   ]
  },
  {
   "cell_type": "code",
   "execution_count": 24,
   "metadata": {
    "collapsed": true
   },
   "outputs": [],
   "source": [
    "too_long=list(filter(lambda x: x>43, len_muts))"
   ]
  },
  {
   "cell_type": "code",
   "execution_count": 25,
   "metadata": {},
   "outputs": [
    {
     "data": {
      "text/plain": [
       "(0.005515757188065291, 1302)"
      ]
     },
     "execution_count": 25,
     "metadata": {},
     "output_type": "execute_result"
    }
   ],
   "source": [
    "len(too_long)/len(len_muts),len(too_long)"
   ]
  },
  {
   "cell_type": "code",
   "execution_count": 38,
   "metadata": {},
   "outputs": [
    {
     "name": "stdout",
     "output_type": "stream",
     "text": [
      "Successfully checked for RE sites in 10000 sequences with check_re_sites()\n"
     ]
    }
   ],
   "source": [
    "#Pre computation check of key functions\n",
    "def test_back_translate(mutants):\n",
    "    \"\"\"Check cycle consistency\"\"\"\n",
    "    for mut in random.sample(mutants,10000):\n",
    "         assert mut.upper()==str(Seq(backtranslate(mut,aa_codon)).translate()),\"back translate failed to produce the same sequence\"\n",
    "    else:\n",
    "         print (\"Back translate test Passed\")\n",
    "\n",
    "def test_mutate_away(mutants,enzyme_sites,aa_codon):\n",
    "    needed_mutation_away=0\n",
    "    for mut in mutants:\n",
    "        mut_nt=str(Seq(backtranslate(mut,aa_codon)))\n",
    "        if check_re_sites(mut_nt,enzyme_sites)>0:\n",
    "            needed_mutation_away+=1\n",
    "            new_seq=mutate_away_sites(mut_nt,enzyme_sites,aa_codon)\n",
    "            \n",
    "            assert mut.upper()==str(Seq(new_seq).translate()),\"mutate away introduced mutation in sequence\"\n",
    "    else:\n",
    "        print (\"Successfully mutated away {num} sequences\".format(num=needed_mutation_away))\n",
    "            \n",
    "def test_check_re_site(re_sites,num_attempts=1000):\n",
    "    for i in range(num_attempts):\n",
    "        sequence_to_check=[]\n",
    "\n",
    "        num_sites=random.randint(0,100)\n",
    "        for j in range(num_sites):\n",
    "            sequence_to_check.extend([random.choice(re_sites)]+[\"X\"*random.randint(0,10)])\n",
    "        str_seq=\"\".join(sequence_to_check)\n",
    "        #print (str_seq, num_sites,check_re_sites(str_seq,re_sites))\n",
    "        assert check_re_sites(str_seq,re_sites)==num_sites, \"RE sites function failed to reproduce the expected results\"\n",
    "    else:\n",
    "        print (\"Successfully checked for RE sites in {num} sequences with check_re_sites()\".format(num=num_attempts))\n",
    "    \n",
    "#test_back_translate(mutants)\n",
    "#test_mutate_away(mutants,re_sites,aa_codon)\n",
    "test_check_re_site(re_sites,10000)"
   ]
  },
  {
   "cell_type": "code",
   "execution_count": 26,
   "metadata": {
    "collapsed": true
   },
   "outputs": [],
   "source": [
    "fwd_file = f'{path_to_synthesis_files}skpp15-forward.fasta'\n",
    "rev_file = f'{path_to_synthesis_files}skpp15-reverse.fasta'\n",
    "\n",
    "hF = open(fwd_file, \"r\")\n",
    "hR = open(rev_file, \"r\")\n",
    "primersF = list(SeqIO.parse(hF, \"fasta\"))\n",
    "primersR = list(SeqIO.parse(hR, \"fasta\"))\n",
    "hF.close()\n",
    "hR.close()"
   ]
  },
  {
   "cell_type": "code",
   "execution_count": 27,
   "metadata": {},
   "outputs": [
    {
     "name": "stdout",
     "output_type": "stream",
     "text": [
      "CGCTAA\n"
     ]
    }
   ],
   "source": [
    "OH_seq_5=\"ATTACA\"\n",
    "OH_seq_3=\"CAAGC\"\n",
    "OH_barcode_5,OH_barcode_3,start_filter,end_filter=compute_BC_OH(BsrBI)"
   ]
  },
  {
   "cell_type": "code",
   "execution_count": 28,
   "metadata": {
    "collapsed": true
   },
   "outputs": [],
   "source": [
    "good_primersF=[]\n",
    "good_primersR=[]\n",
    "for f,r in zip(primersF,primersR):\n",
    "   # print (f.seq,r.seq.reverse_complement())\n",
    "    seq_f=str(f.seq)\n",
    "    seq_r=str(r.seq.reverse_complement())\n",
    "    if (check_re_sites(seq_f,re_sites)+check_re_sites(seq_r,re_sites))==0:        \n",
    "        good_primersF.append(f)\n",
    "        good_primersR.append(r)"
   ]
  },
  {
   "cell_type": "code",
   "execution_count": 29,
   "metadata": {
    "collapsed": true
   },
   "outputs": [],
   "source": [
    "primer_id_to_use=0 #zero indexed"
   ]
  },
  {
   "cell_type": "code",
   "execution_count": 30,
   "metadata": {
    "collapsed": true
   },
   "outputs": [],
   "source": [
    "success_mutants=[]\n",
    "failed_mutants=[]\n",
    "primers_size=len(good_primersF)\n",
    "skipped_barcodes=[]\n",
    "barcode_index=0\n",
    "\n",
    "for i,row in chip1_data[chip1_data.control==0].iterrows():\n",
    "    \n",
    "    mutant=row[\"sequence\"]\n",
    "    label=row[\"category\"]\n",
    "    oligo_obj=Oligo(debug=False)\n",
    "    oligo_obj.set_restriction_enzymes_to_avoid([x.site for x in [HindIII, XbaI,BsrBI,BsmBI]])\n",
    "    oligo_obj.set_targeted_restriction_enzymes([x.site for x in [BbsI, BsaI, EcoRV]])\n",
    "    oligo_obj.set_homopolymer(homopolymer)\n",
    "    \n",
    "    primerF=str(good_primersF[primer_id_to_use].seq) \n",
    "    primerR=str(good_primersR[primer_id_to_use].seq.reverse_complement())\n",
    "    \n",
    "    oligo_obj.assemble_upstream(primerF,BbsI.site,OH_seq_5) #BbsI\n",
    "    rev_comp_BsaI=str(Seq(BsaI.site).reverse_complement())\n",
    "    \n",
    "    pre_barcode=OH_seq_3+rev_comp_BsaI+EcoRV.site+BsaI.site+OH_barcode_5\n",
    "    current_barcode=barcodes[barcode_index]\n",
    "    rev_comp_BbsI= str(Seq(BbsI.site).reverse_complement())\n",
    "\n",
    "    post_barcode=OH_barcode_3+rev_comp_BbsI+primerR\n",
    "    while not oligo_obj.assemble_downstream(pre_barcode,current_barcode,post_barcode):\n",
    "        skipped_barcodes.append(barcode_index)\n",
    "        barcode_index+=1\n",
    "        if barcode_index>=len(barcodes):\n",
    "            print (\"ran out of barcodes!\")\n",
    "            \n",
    "        current_barcode=barcodes[barcode_index]\n",
    "    mut_nt=str(Seq(backtranslate(mutant,aa_codon,wt_nt_seq=WT_NT_AAV2_T21,default_wt=True))) \n",
    "    [full_seq,selected_barcode]=oligo_obj.assemble_full_sequence(mut_nt,aa_codon=aa_codon)\n",
    "    if full_seq:\n",
    "       coding_sequence=full_seq[len(oligo_obj.upstream):-len(oligo_obj.downstream)]\n",
    "       success_mutants.append([full_seq,selected_barcode,mutant,label,coding_sequence])\n",
    "       barcode_index+=1\n",
    "    else:\n",
    "       failed_mutants.append((check_re_sites(oligo_obj.upstream+mut_nt+oligo_obj.downstream,re_sites),oligo_obj.upstream,mut_nt,oligo_obj.downstream,mutant)) \n",
    "    "
   ]
  },
  {
   "cell_type": "code",
   "execution_count": 31,
   "metadata": {},
   "outputs": [
    {
     "data": {
      "text/plain": [
       "234747"
      ]
     },
     "execution_count": 31,
     "metadata": {},
     "output_type": "execute_result"
    }
   ],
   "source": [
    "len(success_mutants)"
   ]
  },
  {
   "cell_type": "code",
   "execution_count": 32,
   "metadata": {},
   "outputs": [
    {
     "data": {
      "text/plain": [
       "'GGGTCACGCGTAGGAGAAGACATTACAGACGAAGATGAAATCAGGACAACCAATCCCGTGGCTACGGAGCAGTATGGTTCTGTATCTACCAACCTCGGGGGGGAAGGCGACAACAGACAAGCGAGACCGATATCGGTCTCACGCTGTGTGTCCAGAATGCGGTCGCTAAGTCTTCGTGTGGCTGCGGAAC'"
      ]
     },
     "execution_count": 32,
     "metadata": {},
     "output_type": "execute_result"
    }
   ],
   "source": [
    "success_mutants[0][0]"
   ]
  },
  {
   "cell_type": "code",
   "execution_count": 33,
   "metadata": {},
   "outputs": [
    {
     "data": {
      "text/plain": [
       "['GGGTCACGCGTAGGAGAAGACATTACAGACGAAGATGAAATCAGGACAACCAATCCCGTGGCTACGGAGCAGTATGGTTCTGTATCTACCAACCTCGGGGGGGAAGGCGACAACAGACAAGCGAGACCGATATCGGTCTCACGCTGTGTGTCCAGAATGCGGTCGCTAAGTCTTCGTGTGGCTGCGGAAC',\n",
       " 'GTGTGTCCAGAATGCGGT',\n",
       " 'DEDEIRTTNPVATEQYGSVSTNLgGEGdNR',\n",
       " 'rnn_designed_plus_rand_train_walked',\n",
       " 'GACGAAGATGAAATCAGGACAACCAATCCCGTGGCTACGGAGCAGTATGGTTCTGTATCTACCAACCTCGGGGGGGAAGGCGACAACAGA']"
      ]
     },
     "execution_count": 33,
     "metadata": {},
     "output_type": "execute_result"
    }
   ],
   "source": [
    "success_mutants[0]"
   ]
  },
  {
   "cell_type": "code",
   "execution_count": 34,
   "metadata": {},
   "outputs": [
    {
     "data": {
      "text/plain": [
       "1304"
      ]
     },
     "execution_count": 34,
     "metadata": {},
     "output_type": "execute_result"
    }
   ],
   "source": [
    "len(failed_mutants)"
   ]
  },
  {
   "cell_type": "code",
   "execution_count": 35,
   "metadata": {},
   "outputs": [
    {
     "data": {
      "text/plain": [
       "(7,\n",
       " 'GGGTCACGCGTAGGAGAAGACATTACA',\n",
       " 'ACAGACGAGGAATGCATCAGGACAACCGCAACCAATCCCGTGGCTACCACGGGCGTGGGGGCGGAAGGGTGGGGTTCTGTAGCGTGTACCATTAACGGAGAGCAGATAGAGGGGGGCGGAAACGCGCCGAGG',\n",
       " 'CAAGCGAGACCGATATCGGTCTCACGCTAGCCGGTCGCTTACAACACGCTAAGTCTTCGTGTGGCTGCGGAAC',\n",
       " 'TDEEcIRTTaTnPVAtTgVgAeGwGSVAcTInGeQiEgGgNaPr')"
      ]
     },
     "execution_count": 35,
     "metadata": {},
     "output_type": "execute_result"
    }
   ],
   "source": [
    "failed_mutants[0]"
   ]
  },
  {
   "cell_type": "code",
   "execution_count": 45,
   "metadata": {},
   "outputs": [
    {
     "data": {
      "text/plain": [
       "('% Barcodes skipped:', 1.5797748569272372)"
      ]
     },
     "execution_count": 45,
     "metadata": {},
     "output_type": "execute_result"
    }
   ],
   "source": [
    "\"% Barcodes discarded:\",(100*(barcode_index-len(success_mutants)))/barcode_index\n",
    "\"% Barcodes skipped:\",(100*len(skipped_barcodes))/barcode_index"
   ]
  },
  {
   "cell_type": "markdown",
   "metadata": {},
   "source": [
    "### Post generation testing."
   ]
  },
  {
   "cell_type": "code",
   "execution_count": 48,
   "metadata": {},
   "outputs": [
    {
     "name": "stdout",
     "output_type": "stream",
     "text": [
      "Success: Correct num of re sites\n"
     ]
    }
   ],
   "source": [
    "#check all \n",
    "def check_num_re_sites(mutants,re_sites_x):\n",
    "    count=0\n",
    "    sites=[]\n",
    "    for mutant_group in mutants:\n",
    "        mutant=mutant_group[0]\n",
    "        num_site=check_re_sites(mutant,re_sites_x)\n",
    "        num_site2=check_re_sites_non_overlapping(mutant,re_sites_x)\n",
    "        assert num_site ==5 & num_site2==5, \"Wrong number of re sites %s %s %s\" %(num_site,num_site2,mutant)\n",
    "\n",
    "    else:\n",
    "        print (\"Success: Correct num of re sites\")\n",
    "check_num_re_sites(success_mutants,re_sites[:-4])"
   ]
  },
  {
   "cell_type": "code",
   "execution_count": 49,
   "metadata": {},
   "outputs": [
    {
     "data": {
      "text/plain": [
       "'Found 28112 sites on 26334 oligos'"
      ]
     },
     "execution_count": 49,
     "metadata": {},
     "output_type": "execute_result"
    }
   ],
   "source": [
    "def count_homopolymers(mutants,homopolymer):\n",
    "    count=0\n",
    "    on_seq=0\n",
    "    for mutant_group in mutants:\n",
    "        mutant=mutant_group[0]\n",
    "        num_site=check_re_sites(mutant,homopolymer)\n",
    "        if num_site!=0:\n",
    "           count+=num_site\n",
    "           on_seq+=1\n",
    "    return \"Found %s sites on %s oligos\" %(count,on_seq)\n",
    "\n",
    "count_homopolymers(success_mutants,re_sites[-4:])\n"
   ]
  },
  {
   "cell_type": "code",
   "execution_count": 50,
   "metadata": {},
   "outputs": [
    {
     "name": "stdout",
     "output_type": "stream",
     "text": [
      "Correct count for BbsI, BsaI, EcoRV,ScaI\n"
     ]
    }
   ],
   "source": [
    "def check_cut_site_counts(sequences):\n",
    "    for seq in sequences:\n",
    "        assert check_re_sites(seq[0],augment_with_reverse_complements([BbsI.site]))==2,  \"Wrong count BbsI sites\"\n",
    "        assert check_re_sites(seq[0],augment_with_reverse_complements([BsaI.site]))==2,  \"Wrong count BsaI sites\"\n",
    "        assert check_re_sites(seq[0],augment_with_reverse_complements([BsrBI.site]))==0,  \"Wrong count BsrBI sites\"\n",
    "        assert check_re_sites(seq[0],augment_with_reverse_complements([EcoRV.site]))==1,  \"Wrong count EcoRV sites\"\n",
    "        assert check_re_sites(seq[0],augment_with_reverse_complements([BsmBI.site]))==0,  \"Wrong count BsmbI sites\"\n",
    "        assert check_re_sites_non_overlapping(seq[0],augment_with_reverse_complements([BbsI.site]))==2,  \"Wrong count BbsI sites\"\n",
    "        assert check_re_sites_non_overlapping(seq[0],augment_with_reverse_complements([BsaI.site]))==2,  \"Wrong count BsaI sites\"\n",
    "        assert check_re_sites_non_overlapping(seq[0],augment_with_reverse_complements([EcoRV.site]))==1,  \"Wrong count EcoRV sites\"\n",
    "    else:\n",
    "        print (\"Correct count for BbsI, BsaI, EcoRV,ScaI\")\n",
    "\n",
    "check_cut_site_counts(success_mutants)"
   ]
  },
  {
   "cell_type": "code",
   "execution_count": 51,
   "metadata": {
    "collapsed": true
   },
   "outputs": [],
   "source": [
    "import re\n",
    "def get_cut_locations(sequences,enzyme_site):\n",
    "    cut_locs=[]\n",
    "    for seq in sequences:\n",
    "        site_loc = re.finditer(enzyme_site, seq[0].upper())\n",
    "        cut_locs.extend(site_loc)\n",
    "    return [c.span()[0] for c in cut_locs]\n",
    "\n",
    "def get_cut_site_distances(sequences,enzyme_site):\n",
    "    cut_locs=[]\n",
    "    for seq in sequences:\n",
    "        site_loc = re.finditer(enzyme_site, seq[0].upper())\n",
    "        site_loc=list(site_loc)\n",
    "        site1=site_loc[0].span()[0]\n",
    "        site2=site_loc[1].span()[0]\n",
    "        cut_locs.append(site2-site1)\n",
    "    return cut_locs"
   ]
  },
  {
   "cell_type": "code",
   "execution_count": 52,
   "metadata": {},
   "outputs": [
    {
     "data": {
      "text/plain": [
       "238515"
      ]
     },
     "execution_count": 52,
     "metadata": {},
     "output_type": "execute_result"
    }
   ],
   "source": [
    "barcode_index"
   ]
  },
  {
   "cell_type": "code",
   "execution_count": 53,
   "metadata": {
    "collapsed": true
   },
   "outputs": [],
   "source": [
    "success_mutants_control=[]\n",
    "failed_mutants_control=[]\n",
    "primers_size=len(good_primersF)\n",
    "#skipped_barcodes=[]\n",
    "#barcode_index=0\n",
    "for i,row in chip1_data[chip1_data.control==1].iterrows():\n",
    "    mutant=row[\"sequence\"]\n",
    "    label=row[\"category\"]\n",
    "    if label==\"singles\":\n",
    "        reps=4\n",
    "    elif label==\"stop\":\n",
    "        reps=3\n",
    "    elif label==\"wild_type\":\n",
    "        reps=200\n",
    "    else:\n",
    "        reps=3\n",
    "    for j in range(reps):\n",
    "        oligo_obj=Oligo(debug=False)\n",
    "        oligo_obj.set_restriction_enzymes_to_avoid([x.site for x in [HindIII, XbaI, BsrBI, BsmBI]]) \n",
    "        oligo_obj.set_targeted_restriction_enzymes([x.site for x in [BbsI, BsaI, EcoRV]])\n",
    "        oligo_obj.set_homopolymer(homopolymer)\n",
    "\n",
    "        primerF=str(good_primersF[primer_id_to_use].seq)\n",
    "        primerR=str(good_primersR[primer_id_to_use].seq.reverse_complement())\n",
    "        oligo_obj.assemble_upstream(primerF,BbsI.site,OH_seq_5) #BbsI\n",
    "        rev_comp_BsaI=str(Seq(BsaI.site).reverse_complement())\n",
    "        pre_barcode=OH_seq_3+rev_comp_BsaI+EcoRV.site+BsaI.site+OH_barcode_5\n",
    "        current_barcode=barcodes[barcode_index]\n",
    "        rev_comp_BbsI= str(Seq(BbsI.site).reverse_complement())\n",
    "\n",
    "        post_barcode=OH_barcode_3+rev_comp_BbsI+primerR\n",
    "        while not oligo_obj.assemble_downstream(pre_barcode,current_barcode,post_barcode):\n",
    "            skipped_barcodes.append(barcode_index)\n",
    "            barcode_index+=1\n",
    "            if barcode_index>=len(barcodes):\n",
    "                print (\"ran out of barcodes!\")\n",
    "\n",
    "            current_barcode=barcodes[barcode_index]\n",
    "        if j<1:\n",
    "                if label==\"stop\" and len(mutant)>28:\n",
    "                    mut_nt_0=str(Seq(backtranslate(mutant,aa_codon)))\n",
    "                    [full_seq,sel_barcode]=oligo_obj.assemble_full_sequence(mut_nt_0,aa_codon=aa_codon)\n",
    "\n",
    "                else:\n",
    "                    mut_nt_0=str(Seq(backtranslate(mutant,aa_codon,wt_nt_seq=WT_NT_AAV2_T21,default_wt=True))) \n",
    "                    [full_seq,sel_barcode]=oligo_obj.assemble_full_sequence(mut_nt_0,aa_codon=aa_codon)\n",
    "                mut_nt=str(mut_nt_0)    \n",
    "            \n",
    "        elif j<2 and label==\"singles\":\n",
    "                mut_nt_0=str(Seq(backtranslate(mutant,aa_codon,wt_nt_seq=WT_NT_AAV2_T21,default_wt=True))) \n",
    "                [full_seq,sel_barcode]=oligo_obj.assemble_full_sequence(mut_nt_0,aa_codon=aa_codon)\n",
    "                mut_nt=str(mut_nt_0)\n",
    "         \n",
    "        else:\n",
    "            mut_nt=str(Seq(backtranslate(mutant,aa_codon))) \n",
    "            while mut_nt==mut_nt_0:\n",
    "                mut_nt=str(Seq(backtranslate(mutant,aa_codon))) \n",
    "                assert mutant==str(Seq(mut_nt_0).translate()), \"Failed to match original\"\n",
    "            [full_seq,sel_barcode]=oligo_obj.assemble_full_sequence(mut_nt,aa_codon=aa_codon) \n",
    "            \n",
    "            \n",
    "        if full_seq:\n",
    "           coding_sequence=full_seq[len(oligo_obj.upstream):-len(oligo_obj.downstream)]\n",
    "           rep_index=j+1\n",
    "           success_mutants_control.append([full_seq,sel_barcode,mutant,label,coding_sequence,rep_index])\n",
    "           barcode_index+=1\n",
    "        else:\n",
    "           failed_mutants_control.append((check_re_sites(oligo_obj.upstream+mut_nt+oligo_obj.downstream,re_sites),oligo_obj.upstream,mut_nt,oligo_obj.downstream,mutant)) \n",
    "    "
   ]
  },
  {
   "cell_type": "code",
   "execution_count": 54,
   "metadata": {},
   "outputs": [
    {
     "data": {
      "text/plain": [
       "['GGGTCACGCGTAGGAGAAGACATTACAGACGAGGAGGAAATTCGCACTACTAACCCAGTTGCTACAGAGCAATATGGTTCTGTCTCTACGAATCTACAGCGGGGAAACAGACAAGCGAGACCGATATCGGTCTCACGCTAGAAGTCTAAGCTATCAGCGCTAAGTCTTCGTGTGGCTGCGGAAC',\n",
       " 'AGAAGTCTAAGCTATCAG',\n",
       " 'DEEEIRTTNPVATEQYGSVSTNLQRGNR',\n",
       " 'wild_type',\n",
       " 'GACGAGGAGGAAATTCGCACTACTAACCCAGTTGCTACAGAGCAATATGGTTCTGTCTCTACGAATCTACAGCGGGGAAACAGA',\n",
       " 200]"
      ]
     },
     "execution_count": 54,
     "metadata": {},
     "output_type": "execute_result"
    }
   ],
   "source": [
    "success_mutants_control[-1]"
   ]
  },
  {
   "cell_type": "code",
   "execution_count": 55,
   "metadata": {},
   "outputs": [
    {
     "data": {
      "text/plain": [
       "5419"
      ]
     },
     "execution_count": 55,
     "metadata": {},
     "output_type": "execute_result"
    }
   ],
   "source": [
    "len(chip1_data[chip1_data.control==1])"
   ]
  },
  {
   "cell_type": "code",
   "execution_count": 56,
   "metadata": {},
   "outputs": [
    {
     "data": {
      "text/plain": [
       "21"
      ]
     },
     "execution_count": 56,
     "metadata": {},
     "output_type": "execute_result"
    }
   ],
   "source": [
    "len(chip1_data[(chip1_data.control==1)&(chip1_data.sequence.str.len()>43)])"
   ]
  },
  {
   "cell_type": "code",
   "execution_count": 57,
   "metadata": {},
   "outputs": [
    {
     "data": {
      "text/plain": [
       "21.0"
      ]
     },
     "execution_count": 57,
     "metadata": {},
     "output_type": "execute_result"
    }
   ],
   "source": [
    "len(set(failed_mutants_control))/3"
   ]
  },
  {
   "cell_type": "code",
   "execution_count": 58,
   "metadata": {},
   "outputs": [
    {
     "name": "stdout",
     "output_type": "stream",
     "text": [
      "Correct count for BbsI, BsaI, EcoRV,ScaI\n",
      "Success: Correct num of re sites\n"
     ]
    }
   ],
   "source": [
    "check_cut_site_counts(success_mutants_control)\n",
    "check_num_re_sites(success_mutants_control,re_sites[:-4])"
   ]
  },
  {
   "cell_type": "code",
   "execution_count": 59,
   "metadata": {
    "collapsed": true
   },
   "outputs": [],
   "source": [
    "# currently unnecessarily slow\n",
    "def make_dataframe(success,input_df,control):\n",
    "    \n",
    "    data=pd.DataFrame(columns=[\"category\",\"control\",\"rep\",\"aa_seq\",\"barcode\",\"coding\",\"full_nt_seq\"])\n",
    "    new_rows=[]\n",
    "    for i,mut in enumerate(success):\n",
    "        aa_seq=mut[2]\n",
    "        category=mut[3]\n",
    "        if control==1:\n",
    "            rep_index=mut[5]\n",
    "        else:\n",
    "            rep_index=1\n",
    "        try:\n",
    "            new_rows.append([category,control,rep_index,aa_seq,mut[1],mut[4],mut[0]])\n",
    "        except:\n",
    "            print (row[\"category\"])\n",
    "        if i>0 and i%20000==0:\n",
    "            print (i)  \n",
    "            new_data=pd.DataFrame(new_rows,columns=[\"category\",\"control\",\"rep\",\"aa_seq\",\"barcode\",\"coding\",\"full_nt_seq\"])\n",
    "            data=data.append(new_data)\n",
    "            new_rows=[]\n",
    "\n",
    "    new_data=pd.DataFrame(new_rows,columns=[\"category\",\"control\",\"rep\",\"aa_seq\",\"barcode\",\"coding\",\"full_nt_seq\"])\n",
    "    data=data.append(new_data)\n",
    "    return data"
   ]
  },
  {
   "cell_type": "code",
   "execution_count": 60,
   "metadata": {},
   "outputs": [
    {
     "name": "stdout",
     "output_type": "stream",
     "text": [
      "20000\n",
      "40000\n",
      "60000\n",
      "80000\n",
      "100000\n",
      "120000\n",
      "140000\n",
      "160000\n",
      "180000\n",
      "200000\n",
      "220000\n"
     ]
    }
   ],
   "source": [
    "normal_data=make_dataframe(success_mutants,chip1_data[chip1_data.control==0],0)"
   ]
  },
  {
   "cell_type": "code",
   "execution_count": 61,
   "metadata": {},
   "outputs": [
    {
     "data": {
      "text/html": [
       "<div>\n",
       "<style scoped>\n",
       "    .dataframe tbody tr th:only-of-type {\n",
       "        vertical-align: middle;\n",
       "    }\n",
       "\n",
       "    .dataframe tbody tr th {\n",
       "        vertical-align: top;\n",
       "    }\n",
       "\n",
       "    .dataframe thead th {\n",
       "        text-align: right;\n",
       "    }\n",
       "</style>\n",
       "<table border=\"1\" class=\"dataframe\">\n",
       "  <thead>\n",
       "    <tr style=\"text-align: right;\">\n",
       "      <th></th>\n",
       "      <th>category</th>\n",
       "      <th>control</th>\n",
       "      <th>rep</th>\n",
       "      <th>aa_seq</th>\n",
       "      <th>barcode</th>\n",
       "      <th>coding</th>\n",
       "      <th>full_nt_seq</th>\n",
       "    </tr>\n",
       "  </thead>\n",
       "  <tbody>\n",
       "    <tr>\n",
       "      <th>0</th>\n",
       "      <td>rnn_designed_plus_rand_train_walked</td>\n",
       "      <td>0</td>\n",
       "      <td>1</td>\n",
       "      <td>DEDEIRTTNPVATEQYGSVSTNLgGEGdNR</td>\n",
       "      <td>GTGTGTCCAGAATGCGGT</td>\n",
       "      <td>GACGAAGATGAAATCAGGACAACCAATCCCGTGGCTACGGAGCAGT...</td>\n",
       "      <td>GGGTCACGCGTAGGAGAAGACATTACAGACGAAGATGAAATCAGGA...</td>\n",
       "    </tr>\n",
       "    <tr>\n",
       "      <th>1</th>\n",
       "      <td>rnn_designed_plus_rand_train_walked</td>\n",
       "      <td>0</td>\n",
       "      <td>1</td>\n",
       "      <td>DEDEIRTTNPVATEQYGSVSTNLQDnGnNdR</td>\n",
       "      <td>GTCCGTTCTAATATCAGA</td>\n",
       "      <td>GACGAGGACGAAATCAGGACAACCAATCCCGTGGCTACGGAGCAGT...</td>\n",
       "      <td>GGGTCACGCGTAGGAGAAGACATTACAGACGAGGACGAAATCAGGA...</td>\n",
       "    </tr>\n",
       "    <tr>\n",
       "      <th>2</th>\n",
       "      <td>rnn_designed_plus_rand_train_walked</td>\n",
       "      <td>0</td>\n",
       "      <td>1</td>\n",
       "      <td>DEDEIRTTNPVATEQYGAVSTNLQGdGNdR</td>\n",
       "      <td>GCTAATCACACGTTGCAT</td>\n",
       "      <td>GACGAGGACGAAATCAGGACAACCAATCCCGTGGCTACGGAGCAGT...</td>\n",
       "      <td>GGGTCACGCGTAGGAGAAGACATTACAGACGAGGACGAAATCAGGA...</td>\n",
       "    </tr>\n",
       "    <tr>\n",
       "      <th>3</th>\n",
       "      <td>rnn_designed_plus_rand_train_walked</td>\n",
       "      <td>0</td>\n",
       "      <td>1</td>\n",
       "      <td>DEEEIATTNPVATEQYGSVSTNLQHdGDeR</td>\n",
       "      <td>GAAGGAACTGGAACTGTA</td>\n",
       "      <td>GACGAAGAGGAAATCGCTACAACCAATCCCGTGGCTACGGAGCAGT...</td>\n",
       "      <td>GGGTCACGCGTAGGAGAAGACATTACAGACGAAGAGGAAATCGCTA...</td>\n",
       "    </tr>\n",
       "    <tr>\n",
       "      <th>4</th>\n",
       "      <td>rnn_designed_plus_rand_train_walked</td>\n",
       "      <td>0</td>\n",
       "      <td>1</td>\n",
       "      <td>DEHEIRTTNPVATEQYGNVSTNLQGgGdNR</td>\n",
       "      <td>AGGACAGCTAACCTCAAT</td>\n",
       "      <td>GACGAACACGAAATCAGGACAACCAATCCCGTGGCTACGGAGCAGT...</td>\n",
       "      <td>GGGTCACGCGTAGGAGAAGACATTACAGACGAACACGAAATCAGGA...</td>\n",
       "    </tr>\n",
       "  </tbody>\n",
       "</table>\n",
       "</div>"
      ],
      "text/plain": [
       "                              category control rep  \\\n",
       "0  rnn_designed_plus_rand_train_walked       0   1   \n",
       "1  rnn_designed_plus_rand_train_walked       0   1   \n",
       "2  rnn_designed_plus_rand_train_walked       0   1   \n",
       "3  rnn_designed_plus_rand_train_walked       0   1   \n",
       "4  rnn_designed_plus_rand_train_walked       0   1   \n",
       "\n",
       "                            aa_seq             barcode  \\\n",
       "0   DEDEIRTTNPVATEQYGSVSTNLgGEGdNR  GTGTGTCCAGAATGCGGT   \n",
       "1  DEDEIRTTNPVATEQYGSVSTNLQDnGnNdR  GTCCGTTCTAATATCAGA   \n",
       "2   DEDEIRTTNPVATEQYGAVSTNLQGdGNdR  GCTAATCACACGTTGCAT   \n",
       "3   DEEEIATTNPVATEQYGSVSTNLQHdGDeR  GAAGGAACTGGAACTGTA   \n",
       "4   DEHEIRTTNPVATEQYGNVSTNLQGgGdNR  AGGACAGCTAACCTCAAT   \n",
       "\n",
       "                                              coding  \\\n",
       "0  GACGAAGATGAAATCAGGACAACCAATCCCGTGGCTACGGAGCAGT...   \n",
       "1  GACGAGGACGAAATCAGGACAACCAATCCCGTGGCTACGGAGCAGT...   \n",
       "2  GACGAGGACGAAATCAGGACAACCAATCCCGTGGCTACGGAGCAGT...   \n",
       "3  GACGAAGAGGAAATCGCTACAACCAATCCCGTGGCTACGGAGCAGT...   \n",
       "4  GACGAACACGAAATCAGGACAACCAATCCCGTGGCTACGGAGCAGT...   \n",
       "\n",
       "                                         full_nt_seq  \n",
       "0  GGGTCACGCGTAGGAGAAGACATTACAGACGAAGATGAAATCAGGA...  \n",
       "1  GGGTCACGCGTAGGAGAAGACATTACAGACGAGGACGAAATCAGGA...  \n",
       "2  GGGTCACGCGTAGGAGAAGACATTACAGACGAGGACGAAATCAGGA...  \n",
       "3  GGGTCACGCGTAGGAGAAGACATTACAGACGAAGAGGAAATCGCTA...  \n",
       "4  GGGTCACGCGTAGGAGAAGACATTACAGACGAACACGAAATCAGGA...  "
      ]
     },
     "execution_count": 61,
     "metadata": {},
     "output_type": "execute_result"
    }
   ],
   "source": [
    "normal_data.head()"
   ]
  },
  {
   "cell_type": "code",
   "execution_count": 62,
   "metadata": {
    "collapsed": true
   },
   "outputs": [],
   "source": [
    "control_data=make_dataframe(success_mutants_control,chip1_data[chip1_data.control==1],1)"
   ]
  },
  {
   "cell_type": "code",
   "execution_count": 63,
   "metadata": {},
   "outputs": [
    {
     "data": {
      "text/html": [
       "<div>\n",
       "<style scoped>\n",
       "    .dataframe tbody tr th:only-of-type {\n",
       "        vertical-align: middle;\n",
       "    }\n",
       "\n",
       "    .dataframe tbody tr th {\n",
       "        vertical-align: top;\n",
       "    }\n",
       "\n",
       "    .dataframe thead th {\n",
       "        text-align: right;\n",
       "    }\n",
       "</style>\n",
       "<table border=\"1\" class=\"dataframe\">\n",
       "  <thead>\n",
       "    <tr style=\"text-align: right;\">\n",
       "      <th></th>\n",
       "      <th>category</th>\n",
       "      <th>control</th>\n",
       "      <th>rep</th>\n",
       "      <th>aa_seq</th>\n",
       "      <th>barcode</th>\n",
       "      <th>coding</th>\n",
       "      <th>full_nt_seq</th>\n",
       "    </tr>\n",
       "  </thead>\n",
       "  <tbody>\n",
       "    <tr>\n",
       "      <th>0</th>\n",
       "      <td>rnn_designed_plus_rand_train_walked</td>\n",
       "      <td>1</td>\n",
       "      <td>1</td>\n",
       "      <td>DESEIATTNPVATEHYGSVSTNLQRdGNP</td>\n",
       "      <td>GTTACCACCAGTCCACAG</td>\n",
       "      <td>GACGAATCGGAAATCGCAACAACCAATCCCGTGGCTACGGAGCACT...</td>\n",
       "      <td>GGGTCACGCGTAGGAGAAGACATTACAGACGAATCGGAAATCGCAA...</td>\n",
       "    </tr>\n",
       "    <tr>\n",
       "      <th>1</th>\n",
       "      <td>rnn_designed_plus_rand_train_walked</td>\n",
       "      <td>1</td>\n",
       "      <td>2</td>\n",
       "      <td>DESEIATTNPVATEHYGSVSTNLQRdGNP</td>\n",
       "      <td>ACTCGCTGACGCCTCTAT</td>\n",
       "      <td>GACGAATCGGAGATAGCCACCACAAATCCCGTAGCAACCGAGCACT...</td>\n",
       "      <td>GGGTCACGCGTAGGAGAAGACATTACAGACGAATCGGAGATAGCCA...</td>\n",
       "    </tr>\n",
       "    <tr>\n",
       "      <th>2</th>\n",
       "      <td>rnn_designed_plus_rand_train_walked</td>\n",
       "      <td>1</td>\n",
       "      <td>3</td>\n",
       "      <td>DESEIATTNPVATEHYGSVSTNLQRdGNP</td>\n",
       "      <td>TGTCGATTGCTTCTTGAT</td>\n",
       "      <td>GATGAATCAGAAATAGCTACAACCAATCCAGTTGCCACAGAGCATT...</td>\n",
       "      <td>GGGTCACGCGTAGGAGAAGACATTACAGATGAATCAGAAATAGCTA...</td>\n",
       "    </tr>\n",
       "    <tr>\n",
       "      <th>3</th>\n",
       "      <td>rnn_designed_plus_rand_train_walked</td>\n",
       "      <td>1</td>\n",
       "      <td>1</td>\n",
       "      <td>DEEEIATTNPVATEQYGSVSTNLQQsGDnR</td>\n",
       "      <td>TCCTCGTTAGTTACCACA</td>\n",
       "      <td>GACGAAGAGGAAATCGCTACAACCAATCCCGTGGCTACGGAGCAGT...</td>\n",
       "      <td>GGGTCACGCGTAGGAGAAGACATTACAGACGAAGAGGAAATCGCTA...</td>\n",
       "    </tr>\n",
       "    <tr>\n",
       "      <th>4</th>\n",
       "      <td>rnn_designed_plus_rand_train_walked</td>\n",
       "      <td>1</td>\n",
       "      <td>2</td>\n",
       "      <td>DEEEIATTNPVATEQYGSVSTNLQQsGDnR</td>\n",
       "      <td>AGTGGTTAGACATATTCT</td>\n",
       "      <td>GACGAAGAGGAAATTGCAACCACAAACCCTGTAGCGACCGAGCAGT...</td>\n",
       "      <td>GGGTCACGCGTAGGAGAAGACATTACAGACGAAGAGGAAATTGCAA...</td>\n",
       "    </tr>\n",
       "  </tbody>\n",
       "</table>\n",
       "</div>"
      ],
      "text/plain": [
       "                              category control rep  \\\n",
       "0  rnn_designed_plus_rand_train_walked       1   1   \n",
       "1  rnn_designed_plus_rand_train_walked       1   2   \n",
       "2  rnn_designed_plus_rand_train_walked       1   3   \n",
       "3  rnn_designed_plus_rand_train_walked       1   1   \n",
       "4  rnn_designed_plus_rand_train_walked       1   2   \n",
       "\n",
       "                           aa_seq             barcode  \\\n",
       "0   DESEIATTNPVATEHYGSVSTNLQRdGNP  GTTACCACCAGTCCACAG   \n",
       "1   DESEIATTNPVATEHYGSVSTNLQRdGNP  ACTCGCTGACGCCTCTAT   \n",
       "2   DESEIATTNPVATEHYGSVSTNLQRdGNP  TGTCGATTGCTTCTTGAT   \n",
       "3  DEEEIATTNPVATEQYGSVSTNLQQsGDnR  TCCTCGTTAGTTACCACA   \n",
       "4  DEEEIATTNPVATEQYGSVSTNLQQsGDnR  AGTGGTTAGACATATTCT   \n",
       "\n",
       "                                              coding  \\\n",
       "0  GACGAATCGGAAATCGCAACAACCAATCCCGTGGCTACGGAGCACT...   \n",
       "1  GACGAATCGGAGATAGCCACCACAAATCCCGTAGCAACCGAGCACT...   \n",
       "2  GATGAATCAGAAATAGCTACAACCAATCCAGTTGCCACAGAGCATT...   \n",
       "3  GACGAAGAGGAAATCGCTACAACCAATCCCGTGGCTACGGAGCAGT...   \n",
       "4  GACGAAGAGGAAATTGCAACCACAAACCCTGTAGCGACCGAGCAGT...   \n",
       "\n",
       "                                         full_nt_seq  \n",
       "0  GGGTCACGCGTAGGAGAAGACATTACAGACGAATCGGAAATCGCAA...  \n",
       "1  GGGTCACGCGTAGGAGAAGACATTACAGACGAATCGGAGATAGCCA...  \n",
       "2  GGGTCACGCGTAGGAGAAGACATTACAGATGAATCAGAAATAGCTA...  \n",
       "3  GGGTCACGCGTAGGAGAAGACATTACAGACGAAGAGGAAATCGCTA...  \n",
       "4  GGGTCACGCGTAGGAGAAGACATTACAGACGAAGAGGAAATTGCAA...  "
      ]
     },
     "execution_count": 63,
     "metadata": {},
     "output_type": "execute_result"
    }
   ],
   "source": [
    "control_data.head()"
   ]
  },
  {
   "cell_type": "code",
   "execution_count": 64,
   "metadata": {},
   "outputs": [
    {
     "data": {
      "text/html": [
       "<div>\n",
       "<style scoped>\n",
       "    .dataframe tbody tr th:only-of-type {\n",
       "        vertical-align: middle;\n",
       "    }\n",
       "\n",
       "    .dataframe tbody tr th {\n",
       "        vertical-align: top;\n",
       "    }\n",
       "\n",
       "    .dataframe thead th {\n",
       "        text-align: right;\n",
       "    }\n",
       "</style>\n",
       "<table border=\"1\" class=\"dataframe\">\n",
       "  <thead>\n",
       "    <tr style=\"text-align: right;\">\n",
       "      <th></th>\n",
       "      <th>category</th>\n",
       "      <th>control</th>\n",
       "      <th>rep</th>\n",
       "      <th>aa_seq</th>\n",
       "      <th>barcode</th>\n",
       "      <th>coding</th>\n",
       "      <th>full_nt_seq</th>\n",
       "    </tr>\n",
       "  </thead>\n",
       "  <tbody>\n",
       "    <tr>\n",
       "      <th>17498</th>\n",
       "      <td>wild_type</td>\n",
       "      <td>1</td>\n",
       "      <td>196</td>\n",
       "      <td>DEEEIRTTNPVATEQYGSVSTNLQRGNR</td>\n",
       "      <td>ATTGCCGAGTATTCTTGA</td>\n",
       "      <td>GACGAAGAGGAGATACGAACTACGAATCCTGTGGCTACGGAGCAAT...</td>\n",
       "      <td>GGGTCACGCGTAGGAGAAGACATTACAGACGAAGAGGAGATACGAA...</td>\n",
       "    </tr>\n",
       "    <tr>\n",
       "      <th>17499</th>\n",
       "      <td>wild_type</td>\n",
       "      <td>1</td>\n",
       "      <td>197</td>\n",
       "      <td>DEEEIRTTNPVATEQYGSVSTNLQRGNR</td>\n",
       "      <td>TCTCGCAGGTTGTATCAG</td>\n",
       "      <td>GATGAAGAAGAAATCAGGACGACAAACCCGGTTGCGACGGAACAGT...</td>\n",
       "      <td>GGGTCACGCGTAGGAGAAGACATTACAGATGAAGAAGAAATCAGGA...</td>\n",
       "    </tr>\n",
       "    <tr>\n",
       "      <th>17500</th>\n",
       "      <td>wild_type</td>\n",
       "      <td>1</td>\n",
       "      <td>198</td>\n",
       "      <td>DEEEIRTTNPVATEQYGSVSTNLQRGNR</td>\n",
       "      <td>TGCGGTGTCTATACGATA</td>\n",
       "      <td>GACGAGGAAGAGATCAGAACGACAAACCCCGTAGCAACAGAACAAT...</td>\n",
       "      <td>GGGTCACGCGTAGGAGAAGACATTACAGACGAGGAAGAGATCAGAA...</td>\n",
       "    </tr>\n",
       "    <tr>\n",
       "      <th>17501</th>\n",
       "      <td>wild_type</td>\n",
       "      <td>1</td>\n",
       "      <td>199</td>\n",
       "      <td>DEEEIRTTNPVATEQYGSVSTNLQRGNR</td>\n",
       "      <td>TCACGGAGATTGGATGCT</td>\n",
       "      <td>GATGAAGAAGAGATACGTACGACTAACCCGGTGGCGACTGAGCAAT...</td>\n",
       "      <td>GGGTCACGCGTAGGAGAAGACATTACAGATGAAGAAGAGATACGTA...</td>\n",
       "    </tr>\n",
       "    <tr>\n",
       "      <th>17502</th>\n",
       "      <td>wild_type</td>\n",
       "      <td>1</td>\n",
       "      <td>200</td>\n",
       "      <td>DEEEIRTTNPVATEQYGSVSTNLQRGNR</td>\n",
       "      <td>AGAAGTCTAAGCTATCAG</td>\n",
       "      <td>GACGAGGAGGAAATTCGCACTACTAACCCAGTTGCTACAGAGCAAT...</td>\n",
       "      <td>GGGTCACGCGTAGGAGAAGACATTACAGACGAGGAGGAAATTCGCA...</td>\n",
       "    </tr>\n",
       "  </tbody>\n",
       "</table>\n",
       "</div>"
      ],
      "text/plain": [
       "        category control  rep                        aa_seq  \\\n",
       "17498  wild_type       1  196  DEEEIRTTNPVATEQYGSVSTNLQRGNR   \n",
       "17499  wild_type       1  197  DEEEIRTTNPVATEQYGSVSTNLQRGNR   \n",
       "17500  wild_type       1  198  DEEEIRTTNPVATEQYGSVSTNLQRGNR   \n",
       "17501  wild_type       1  199  DEEEIRTTNPVATEQYGSVSTNLQRGNR   \n",
       "17502  wild_type       1  200  DEEEIRTTNPVATEQYGSVSTNLQRGNR   \n",
       "\n",
       "                  barcode                                             coding  \\\n",
       "17498  ATTGCCGAGTATTCTTGA  GACGAAGAGGAGATACGAACTACGAATCCTGTGGCTACGGAGCAAT...   \n",
       "17499  TCTCGCAGGTTGTATCAG  GATGAAGAAGAAATCAGGACGACAAACCCGGTTGCGACGGAACAGT...   \n",
       "17500  TGCGGTGTCTATACGATA  GACGAGGAAGAGATCAGAACGACAAACCCCGTAGCAACAGAACAAT...   \n",
       "17501  TCACGGAGATTGGATGCT  GATGAAGAAGAGATACGTACGACTAACCCGGTGGCGACTGAGCAAT...   \n",
       "17502  AGAAGTCTAAGCTATCAG  GACGAGGAGGAAATTCGCACTACTAACCCAGTTGCTACAGAGCAAT...   \n",
       "\n",
       "                                             full_nt_seq  \n",
       "17498  GGGTCACGCGTAGGAGAAGACATTACAGACGAAGAGGAGATACGAA...  \n",
       "17499  GGGTCACGCGTAGGAGAAGACATTACAGATGAAGAAGAAATCAGGA...  \n",
       "17500  GGGTCACGCGTAGGAGAAGACATTACAGACGAGGAAGAGATCAGAA...  \n",
       "17501  GGGTCACGCGTAGGAGAAGACATTACAGATGAAGAAGAGATACGTA...  \n",
       "17502  GGGTCACGCGTAGGAGAAGACATTACAGACGAGGAGGAAATTCGCA...  "
      ]
     },
     "execution_count": 64,
     "metadata": {},
     "output_type": "execute_result"
    }
   ],
   "source": [
    "control_data.tail()"
   ]
  },
  {
   "cell_type": "code",
   "execution_count": 65,
   "metadata": {},
   "outputs": [
    {
     "data": {
      "text/plain": [
       "(234747, 17503)"
      ]
     },
     "execution_count": 65,
     "metadata": {},
     "output_type": "execute_result"
    }
   ],
   "source": [
    "len(normal_data),len(control_data)"
   ]
  },
  {
   "cell_type": "code",
   "execution_count": 66,
   "metadata": {
    "collapsed": true
   },
   "outputs": [],
   "source": [
    "def test_data_frame(df):\n",
    "    bc_lengths=set(list(filter(lambda x: len(x)!=18, df[\"barcode\"])))\n",
    "   # print (bc_lengths)\n",
    "    \n",
    "    assert len(bc_lengths)==0, \"variable barcode length\"\n",
    "    assert len(df[\"barcode\"])==len(set(df[\"barcode\"])),\"non unique barcode\"\n",
    "    \n",
    "    try:\n",
    "        assert len(df[\"coding\"])==len(set(df[\"coding\"])),\"non unique coding region\"\n",
    "    except:\n",
    "        print (len(df[df.duplicated(\"coding\", keep=False)]),\"duplicated coding regions\")\n",
    "        \n",
    "    for i, row in df.iterrows():\n",
    "        nt=row[\"coding\"]\n",
    "        aa=str(Seq(nt).translate())\n",
    "        assert row[\"barcode\"] in row[\"full_nt_seq\"], \"barcode not paired with full seq\"\n",
    "        assert aa==str(row[\"aa_seq\"]).upper(), \"wrong translation\"\n",
    "        assert row[\"full_nt_seq\"].startswith(str(good_primersF[primer_id_to_use].seq)), \"wrong start primer\"\n",
    "        assert row[\"full_nt_seq\"].endswith(str(good_primersR[primer_id_to_use].seq.reverse_complement())),\"wrong end primer\"\n",
    "        \n",
    "    print (\"All tests passed\")\n",
    "    "
   ]
  },
  {
   "cell_type": "code",
   "execution_count": 67,
   "metadata": {},
   "outputs": [
    {
     "data": {
      "text/html": [
       "<div>\n",
       "<style scoped>\n",
       "    .dataframe tbody tr th:only-of-type {\n",
       "        vertical-align: middle;\n",
       "    }\n",
       "\n",
       "    .dataframe tbody tr th {\n",
       "        vertical-align: top;\n",
       "    }\n",
       "\n",
       "    .dataframe thead th {\n",
       "        text-align: right;\n",
       "    }\n",
       "</style>\n",
       "<table border=\"1\" class=\"dataframe\">\n",
       "  <thead>\n",
       "    <tr style=\"text-align: right;\">\n",
       "      <th></th>\n",
       "      <th>category</th>\n",
       "      <th>control</th>\n",
       "      <th>rep</th>\n",
       "      <th>aa_seq</th>\n",
       "      <th>barcode</th>\n",
       "      <th>coding</th>\n",
       "      <th>full_nt_seq</th>\n",
       "    </tr>\n",
       "  </thead>\n",
       "  <tbody>\n",
       "    <tr>\n",
       "      <th>0</th>\n",
       "      <td>rnn_designed_plus_rand_train_walked</td>\n",
       "      <td>0</td>\n",
       "      <td>1</td>\n",
       "      <td>DEDEIRTTNPVATEQYGSVSTNLgGEGdNR</td>\n",
       "      <td>GTGTGTCCAGAATGCGGT</td>\n",
       "      <td>GACGAAGATGAAATCAGGACAACCAATCCCGTGGCTACGGAGCAGT...</td>\n",
       "      <td>GGGTCACGCGTAGGAGAAGACATTACAGACGAAGATGAAATCAGGA...</td>\n",
       "    </tr>\n",
       "    <tr>\n",
       "      <th>1</th>\n",
       "      <td>rnn_designed_plus_rand_train_walked</td>\n",
       "      <td>0</td>\n",
       "      <td>1</td>\n",
       "      <td>DEDEIRTTNPVATEQYGSVSTNLQDnGnNdR</td>\n",
       "      <td>GTCCGTTCTAATATCAGA</td>\n",
       "      <td>GACGAGGACGAAATCAGGACAACCAATCCCGTGGCTACGGAGCAGT...</td>\n",
       "      <td>GGGTCACGCGTAGGAGAAGACATTACAGACGAGGACGAAATCAGGA...</td>\n",
       "    </tr>\n",
       "    <tr>\n",
       "      <th>2</th>\n",
       "      <td>rnn_designed_plus_rand_train_walked</td>\n",
       "      <td>0</td>\n",
       "      <td>1</td>\n",
       "      <td>DEDEIRTTNPVATEQYGAVSTNLQGdGNdR</td>\n",
       "      <td>GCTAATCACACGTTGCAT</td>\n",
       "      <td>GACGAGGACGAAATCAGGACAACCAATCCCGTGGCTACGGAGCAGT...</td>\n",
       "      <td>GGGTCACGCGTAGGAGAAGACATTACAGACGAGGACGAAATCAGGA...</td>\n",
       "    </tr>\n",
       "    <tr>\n",
       "      <th>3</th>\n",
       "      <td>rnn_designed_plus_rand_train_walked</td>\n",
       "      <td>0</td>\n",
       "      <td>1</td>\n",
       "      <td>DEEEIATTNPVATEQYGSVSTNLQHdGDeR</td>\n",
       "      <td>GAAGGAACTGGAACTGTA</td>\n",
       "      <td>GACGAAGAGGAAATCGCTACAACCAATCCCGTGGCTACGGAGCAGT...</td>\n",
       "      <td>GGGTCACGCGTAGGAGAAGACATTACAGACGAAGAGGAAATCGCTA...</td>\n",
       "    </tr>\n",
       "    <tr>\n",
       "      <th>4</th>\n",
       "      <td>rnn_designed_plus_rand_train_walked</td>\n",
       "      <td>0</td>\n",
       "      <td>1</td>\n",
       "      <td>DEHEIRTTNPVATEQYGNVSTNLQGgGdNR</td>\n",
       "      <td>AGGACAGCTAACCTCAAT</td>\n",
       "      <td>GACGAACACGAAATCAGGACAACCAATCCCGTGGCTACGGAGCAGT...</td>\n",
       "      <td>GGGTCACGCGTAGGAGAAGACATTACAGACGAACACGAAATCAGGA...</td>\n",
       "    </tr>\n",
       "  </tbody>\n",
       "</table>\n",
       "</div>"
      ],
      "text/plain": [
       "                              category control rep  \\\n",
       "0  rnn_designed_plus_rand_train_walked       0   1   \n",
       "1  rnn_designed_plus_rand_train_walked       0   1   \n",
       "2  rnn_designed_plus_rand_train_walked       0   1   \n",
       "3  rnn_designed_plus_rand_train_walked       0   1   \n",
       "4  rnn_designed_plus_rand_train_walked       0   1   \n",
       "\n",
       "                            aa_seq             barcode  \\\n",
       "0   DEDEIRTTNPVATEQYGSVSTNLgGEGdNR  GTGTGTCCAGAATGCGGT   \n",
       "1  DEDEIRTTNPVATEQYGSVSTNLQDnGnNdR  GTCCGTTCTAATATCAGA   \n",
       "2   DEDEIRTTNPVATEQYGAVSTNLQGdGNdR  GCTAATCACACGTTGCAT   \n",
       "3   DEEEIATTNPVATEQYGSVSTNLQHdGDeR  GAAGGAACTGGAACTGTA   \n",
       "4   DEHEIRTTNPVATEQYGNVSTNLQGgGdNR  AGGACAGCTAACCTCAAT   \n",
       "\n",
       "                                              coding  \\\n",
       "0  GACGAAGATGAAATCAGGACAACCAATCCCGTGGCTACGGAGCAGT...   \n",
       "1  GACGAGGACGAAATCAGGACAACCAATCCCGTGGCTACGGAGCAGT...   \n",
       "2  GACGAGGACGAAATCAGGACAACCAATCCCGTGGCTACGGAGCAGT...   \n",
       "3  GACGAAGAGGAAATCGCTACAACCAATCCCGTGGCTACGGAGCAGT...   \n",
       "4  GACGAACACGAAATCAGGACAACCAATCCCGTGGCTACGGAGCAGT...   \n",
       "\n",
       "                                         full_nt_seq  \n",
       "0  GGGTCACGCGTAGGAGAAGACATTACAGACGAAGATGAAATCAGGA...  \n",
       "1  GGGTCACGCGTAGGAGAAGACATTACAGACGAGGACGAAATCAGGA...  \n",
       "2  GGGTCACGCGTAGGAGAAGACATTACAGACGAGGACGAAATCAGGA...  \n",
       "3  GGGTCACGCGTAGGAGAAGACATTACAGACGAAGAGGAAATCGCTA...  \n",
       "4  GGGTCACGCGTAGGAGAAGACATTACAGACGAACACGAAATCAGGA...  "
      ]
     },
     "execution_count": 67,
     "metadata": {},
     "output_type": "execute_result"
    }
   ],
   "source": [
    "all_data=normal_data[normal_data.category!=\"random_doubles\"].append(control_data)\n",
    "all_data=all_data.append(normal_data[normal_data.category==\"random_doubles\"])\n",
    "all_data=all_data.reset_index(drop=True)\n",
    "all_data.head()"
   ]
  },
  {
   "cell_type": "code",
   "execution_count": 68,
   "metadata": {},
   "outputs": [
    {
     "data": {
      "text/plain": [
       "'GGGTCACGCGTAGGA'"
      ]
     },
     "execution_count": 68,
     "metadata": {},
     "output_type": "execute_result"
    }
   ],
   "source": [
    "str(good_primersF[primer_id_to_use].seq)\n",
    "#primersF[0]"
   ]
  },
  {
   "cell_type": "code",
   "execution_count": 69,
   "metadata": {},
   "outputs": [
    {
     "name": "stdout",
     "output_type": "stream",
     "text": [
      "978 duplicated coding regions\n",
      "All tests passed\n",
      "1051 duplicated coding regions\n",
      "All tests passed\n"
     ]
    }
   ],
   "source": [
    "test_data_frame(control_data)\n",
    "test_data_frame(all_data)"
   ]
  },
  {
   "cell_type": "code",
   "execution_count": 70,
   "metadata": {},
   "outputs": [
    {
     "data": {
      "text/plain": [
       "252250"
      ]
     },
     "execution_count": 70,
     "metadata": {},
     "output_type": "execute_result"
    }
   ],
   "source": [
    "len(all_data)"
   ]
  },
  {
   "cell_type": "code",
   "execution_count": 273,
   "metadata": {},
   "outputs": [
    {
     "data": {
      "text/plain": [
       "17503"
      ]
     },
     "execution_count": 273,
     "metadata": {},
     "output_type": "execute_result"
    }
   ],
   "source": [
    "len(control_data)"
   ]
  },
  {
   "cell_type": "code",
   "execution_count": 73,
   "metadata": {
    "collapsed": true
   },
   "outputs": [],
   "source": [
    "#all_data.to_csv(f'{path_to_synthesis_files}chip_df.csv\")"
   ]
  }
 ],
 "metadata": {
  "anaconda-cloud": {},
  "kernelspec": {
   "display_name": "Python 3",
   "language": "python",
   "name": "python3"
  },
  "language_info": {
   "codemirror_mode": {
    "name": "ipython",
    "version": 3
   },
   "file_extension": ".py",
   "mimetype": "text/x-python",
   "name": "python",
   "nbconvert_exporter": "python",
   "pygments_lexer": "ipython3",
   "version": "3.6.6"
  }
 },
 "nbformat": 4,
 "nbformat_minor": 1
}
